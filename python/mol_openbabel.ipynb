{
 "cells": [
  {
   "cell_type": "markdown",
   "metadata": {},
   "source": [
    "Fork from **Andrew Lukyanenko**\n",
    "\n",
    "This kernel is still a draft.\n",
    "\n",
    "Uses OpenBabel API. \n",
    "Idea from https://www.kaggle.com/c/champs-scalar-coupling/discussion/93928#latest-546589\n",
    "\n",
    "With Openbabel it's easy to navigate through bonds, so I added sp, 2J angle and 3J dihedral angle.\n",
    "\n",
    "Some basic info here https://yvesrubin.files.wordpress.com/2011/03/coupling-constants-for-1h-and-13c-nmr.pdf\n",
    "\n",
    "What to do next?\n",
    "If you are a python fan, you certainly can improve my code!\n",
    "\n",
    "If you are a chemist, you may extract more useful info from openbabel.\n",
    "\n",
    "if you aren in ML, extracting *everything* from openbabel and create a data file might work. I also did a learning for each bond, but not sure it's good."
   ]
  },
  {
   "cell_type": "markdown",
   "metadata": {},
   "source": [
    "## General information\n",
    "\n",
    "This kernel is created using data of `Predicting Molecular Properties` competition.\n",
    "We have information about atom couples in molecules and need to predict `scalar_coupling_constant` between these atoms.\n",
    "\n",
    "![](http://www.et.byu.edu/~rowley/VLEfinal/methane_dimer.gif)\n",
    "\n",
    "In this kernel I'll do EDA and will try some approaches to modelling.\n",
    "\n",
    "*Work still in progress*\n",
    "\n",
    "\n"
   ]
  },
  {
   "cell_type": "code",
   "execution_count": 3,
   "metadata": {},
   "outputs": [
    {
     "name": "stdout",
     "output_type": "stream",
     "text": [
      "total 902M\n",
      "drwxr-xr-x. 4 acastillo acastillo 4.0K Jul  2 16:58 .\n",
      "drwxr-xr-x. 4 acastillo acastillo 4.0K Jun 15 06:44 ..\n",
      "-rw-rw-r--. 1 acastillo acastillo 3.2M May 29 16:34 dipole_moments.csv\n",
      "-rw-r--r--. 1 acastillo acastillo  212 May  2 16:19 dsgdb9nsd_000001.xyz\n",
      "-rw-r--r--. 1 acastillo acastillo  171 May  2 16:19 dsgdb9nsd_000002.xyz\n",
      "-rw-r--r--. 1 acastillo acastillo  126 May  2 16:19 dsgdb9nsd_000003.xyz\n",
      "-rw-r--r--. 1 acastillo acastillo  168 May  2 16:19 dsgdb9nsd_000004.xyz\n",
      "-rw-rw-r--. 1 acastillo acastillo 131M May 29 16:33 magnetic_shielding_tensors.csv\n",
      "-rw-rw-r--. 1 acastillo acastillo  42M May 29 16:32 mulliken_charges.csv\n",
      "-rw-rw-r--. 1 acastillo acastillo 2.2M May 29 16:33 potential_energy.csv\n",
      "-rw-rw-r--. 1 acastillo acastillo  24M May 29 16:33 sample_submission.csv\n",
      "-rw-rw-r--. 1 acastillo acastillo 280M May 29 16:33 scalar_coupling_contributions.csv\n",
      "drwxr-xr-x. 2 acastillo acastillo 5.0M Jun 15 06:32 structures\n",
      "-rw-rw-r--. 1 acastillo acastillo 136M May 29 16:32 structures.csv\n",
      "drwxr-xr-x. 2 acastillo acastillo 5.0M Jun 15 06:40 structuresmol\n",
      "-rw-rw-r--. 1 acastillo acastillo  84M May 29 16:33 test.csv\n",
      "-rw-rw-r--. 1 acastillo acastillo 192M May 29 16:33 train.csv\n"
     ]
    }
   ],
   "source": [
    "!ls -alh ../../champs-scalar-coupling"
   ]
  },
  {
   "cell_type": "code",
   "execution_count": 4,
   "metadata": {
    "_kg_hide-output": true
   },
   "outputs": [
    {
     "name": "stdout",
     "output_type": "stream",
     "text": [
      "Collecting package metadata: done\n",
      "Solving environment: done\n",
      "\n",
      "## Package Plan ##\n",
      "\n",
      "  environment location: /home/acastillo/anaconda3\n",
      "\n",
      "  added / updated specs:\n",
      "    - openbabel\n",
      "\n",
      "\n",
      "The following packages will be downloaded:\n",
      "\n",
      "    package                    |            build\n",
      "    ---------------------------|-----------------\n",
      "    _libgcc_mutex-0.1          |             main           3 KB\n",
      "    certifi-2019.3.9           |           py37_0         155 KB\n",
      "    conda-4.7.5                |           py37_0         3.0 MB\n",
      "    conda-package-handling-1.3.10|           py37_0         259 KB\n",
      "    libgcc-7.2.0               |       h69d50b8_2         304 KB\n",
      "    openbabel-2.4.1            |           py37_5         5.1 MB  openbabel\n",
      "    ------------------------------------------------------------\n",
      "                                           Total:         8.8 MB\n",
      "\n",
      "The following NEW packages will be INSTALLED:\n",
      "\n",
      "  _libgcc_mutex      pkgs/main/linux-64::_libgcc_mutex-0.1-main\n",
      "  conda-package-han~ pkgs/main/linux-64::conda-package-handling-1.3.10-py37_0\n",
      "  libgcc             pkgs/main/linux-64::libgcc-7.2.0-h69d50b8_2\n",
      "  openbabel          openbabel/linux-64::openbabel-2.4.1-py37_5\n",
      "\n",
      "The following packages will be UPDATED:\n",
      "\n",
      "  conda                    conda-forge::conda-4.6.14-py37_0 --> pkgs/main::conda-4.7.5-py37_0\n",
      "\n",
      "The following packages will be SUPERSEDED by a higher-priority channel:\n",
      "\n",
      "  certifi                                       conda-forge --> pkgs/main\n",
      "\n",
      "\n",
      "\n",
      "Downloading and Extracting Packages\n",
      "_libgcc_mutex-0.1    | 3 KB      | ##################################### | 100% \n",
      "certifi-2019.3.9     | 155 KB    | ##################################### | 100% \n",
      "conda-4.7.5          | 3.0 MB    | ##################################### | 100% \n",
      "openbabel-2.4.1      | 5.1 MB    | ##################################### | 100% \n",
      "libgcc-7.2.0         | 304 KB    | ##################################### | 100% \n",
      "conda-package-handli | 259 KB    | ##################################### | 100% \n",
      "Preparing transaction: done\n",
      "Verifying transaction: done\n",
      "Executing transaction: done\n"
     ]
    }
   ],
   "source": [
    "!conda install -y -c openbabel openbabel \n",
    "import openbabel\n"
   ]
  },
  {
   "cell_type": "code",
   "execution_count": null,
   "metadata": {
    "_kg_hide-output": true
   },
   "outputs": [],
   "source": [
    "#!rm -r /opt/conda/lib/python3.6/site-packages/lightgbm\n",
    "#!git clone --recursive https://github.com/Microsoft/LightGBM\n",
    "#!apt-get install -y -qq libboost-all-dev    "
   ]
  },
  {
   "cell_type": "code",
   "execution_count": null,
   "metadata": {
    "_kg_hide-output": true
   },
   "outputs": [],
   "source": [
    "#%%bash\n",
    "#cd LightGBM\n",
    "#rm -r build\n",
    "#mkdir build\n",
    "#cd build\n",
    "#cmake -DUSE_GPU=1 -DOpenCL_LIBRARY=/usr/local/cuda/lib64/libOpenCL.so -DOpenCL_INCLUDE_DIR=/usr/local/cuda/include/ ..\n",
    "#make -j$(nproc)"
   ]
  },
  {
   "cell_type": "code",
   "execution_count": null,
   "metadata": {
    "_kg_hide-output": true
   },
   "outputs": [],
   "source": [
    "#!cd LightGBM/python-package/;python3 setup.py install --precompile"
   ]
  },
  {
   "cell_type": "code",
   "execution_count": null,
   "metadata": {
    "_kg_hide-output": true
   },
   "outputs": [],
   "source": [
    "#!mkdir -p /etc/OpenCL/vendors && echo \"libnvidia-opencl.so.1\" > /etc/OpenCL/vendors/nvidia.icd\n",
    "#!rm -r LightGBM"
   ]
  },
  {
   "cell_type": "code",
   "execution_count": null,
   "metadata": {},
   "outputs": [],
   "source": [
    "#!conda install --yes -c conda-forge altair vega_datasets jupyterlab"
   ]
  },
  {
   "cell_type": "markdown",
   "metadata": {},
   "source": [
    "importing libraries"
   ]
  },
  {
   "cell_type": "code",
   "execution_count": 1,
   "metadata": {
    "_cell_guid": "b1076dfc-b9ad-4769-8c92-a6c4dae69d19",
    "_kg_hide-input": true,
    "_uuid": "8f2839f25d086af736a60e9eeb907d3b93b6e0e5"
   },
   "outputs": [],
   "source": [
    "import numpy as np\n",
    "import pandas as pd\n",
    "import os\n",
    "\n",
    "import matplotlib.pyplot as plt\n",
    "%matplotlib inline\n",
    "from tqdm import tqdm_notebook\n",
    "from sklearn.preprocessing import StandardScaler\n",
    "from sklearn.svm import NuSVR, SVR\n",
    "from sklearn.metrics import mean_absolute_error\n",
    "pd.options.display.precision = 15\n",
    "\n",
    "import lightgbm as lgb\n",
    "import xgboost as xgb\n",
    "import time\n",
    "import datetime\n",
    "from catboost import CatBoostRegressor\n",
    "from sklearn.preprocessing import LabelEncoder\n",
    "from sklearn.model_selection import StratifiedKFold, KFold, RepeatedKFold\n",
    "from sklearn import metrics\n",
    "from sklearn import linear_model\n",
    "import gc\n",
    "import seaborn as sns\n",
    "import warnings\n",
    "warnings.filterwarnings(\"ignore\")\n",
    "\n",
    "\n",
    "from IPython.display import HTML\n",
    "import json\n",
    "import altair as alt\n",
    "\n",
    "import networkx as nx\n",
    "import matplotlib.pyplot as plt\n",
    "%matplotlib inline\n",
    "\n",
    "#alt.renderers.enable('notebook')\n",
    "\n",
    "#os.environ[\"TZ\"]=\"Europe/Paris\"\n",
    "time.tzset()\n"
   ]
  },
  {
   "cell_type": "code",
   "execution_count": 2,
   "metadata": {},
   "outputs": [
    {
     "data": {
      "application/vnd.vegalite.v3+json": {
       "$schema": "https://vega.github.io/schema/vega-lite/v3.3.0.json",
       "config": {
        "mark": {
         "tooltip": null
        },
        "view": {
         "height": 300,
         "width": 400
        }
       },
       "data": {
        "name": "data-a264acbd6e539a8b3afc0cb5f240fb57"
       },
       "datasets": {
        "data-a264acbd6e539a8b3afc0cb5f240fb57": [
         {
          "petalLength": 1.4,
          "petalWidth": 0.2,
          "sepalLength": 5.1,
          "sepalWidth": 3.5,
          "species": "setosa"
         },
         {
          "petalLength": 1.4,
          "petalWidth": 0.2,
          "sepalLength": 4.9,
          "sepalWidth": 3,
          "species": "setosa"
         },
         {
          "petalLength": 1.3,
          "petalWidth": 0.2,
          "sepalLength": 4.7,
          "sepalWidth": 3.2,
          "species": "setosa"
         },
         {
          "petalLength": 1.5,
          "petalWidth": 0.2,
          "sepalLength": 4.6,
          "sepalWidth": 3.1,
          "species": "setosa"
         },
         {
          "petalLength": 1.4,
          "petalWidth": 0.2,
          "sepalLength": 5,
          "sepalWidth": 3.6,
          "species": "setosa"
         },
         {
          "petalLength": 1.7000000000000002,
          "petalWidth": 0.4,
          "sepalLength": 5.4,
          "sepalWidth": 3.9,
          "species": "setosa"
         },
         {
          "petalLength": 1.4,
          "petalWidth": 0.30000000000000004,
          "sepalLength": 4.6,
          "sepalWidth": 3.4,
          "species": "setosa"
         },
         {
          "petalLength": 1.5,
          "petalWidth": 0.2,
          "sepalLength": 5,
          "sepalWidth": 3.4,
          "species": "setosa"
         },
         {
          "petalLength": 1.4,
          "petalWidth": 0.2,
          "sepalLength": 4.4,
          "sepalWidth": 2.9,
          "species": "setosa"
         },
         {
          "petalLength": 1.5,
          "petalWidth": 0.1,
          "sepalLength": 4.9,
          "sepalWidth": 3.1,
          "species": "setosa"
         },
         {
          "petalLength": 1.5,
          "petalWidth": 0.2,
          "sepalLength": 5.4,
          "sepalWidth": 3.7,
          "species": "setosa"
         },
         {
          "petalLength": 1.6,
          "petalWidth": 0.2,
          "sepalLength": 4.8,
          "sepalWidth": 3.4,
          "species": "setosa"
         },
         {
          "petalLength": 1.4,
          "petalWidth": 0.1,
          "sepalLength": 4.8,
          "sepalWidth": 3,
          "species": "setosa"
         },
         {
          "petalLength": 1.1,
          "petalWidth": 0.1,
          "sepalLength": 4.3,
          "sepalWidth": 3,
          "species": "setosa"
         },
         {
          "petalLength": 1.2,
          "petalWidth": 0.2,
          "sepalLength": 5.8,
          "sepalWidth": 4,
          "species": "setosa"
         },
         {
          "petalLength": 1.5,
          "petalWidth": 0.4,
          "sepalLength": 5.7,
          "sepalWidth": 4.4,
          "species": "setosa"
         },
         {
          "petalLength": 1.3,
          "petalWidth": 0.4,
          "sepalLength": 5.4,
          "sepalWidth": 3.9,
          "species": "setosa"
         },
         {
          "petalLength": 1.4,
          "petalWidth": 0.30000000000000004,
          "sepalLength": 5.1,
          "sepalWidth": 3.5,
          "species": "setosa"
         },
         {
          "petalLength": 1.7000000000000002,
          "petalWidth": 0.30000000000000004,
          "sepalLength": 5.7,
          "sepalWidth": 3.8,
          "species": "setosa"
         },
         {
          "petalLength": 1.5,
          "petalWidth": 0.30000000000000004,
          "sepalLength": 5.1,
          "sepalWidth": 3.8,
          "species": "setosa"
         },
         {
          "petalLength": 1.7000000000000002,
          "petalWidth": 0.2,
          "sepalLength": 5.4,
          "sepalWidth": 3.4,
          "species": "setosa"
         },
         {
          "petalLength": 1.5,
          "petalWidth": 0.4,
          "sepalLength": 5.1,
          "sepalWidth": 3.7,
          "species": "setosa"
         },
         {
          "petalLength": 1,
          "petalWidth": 0.2,
          "sepalLength": 4.6,
          "sepalWidth": 3.6,
          "species": "setosa"
         },
         {
          "petalLength": 1.7000000000000002,
          "petalWidth": 0.5,
          "sepalLength": 5.1,
          "sepalWidth": 3.3,
          "species": "setosa"
         },
         {
          "petalLength": 1.9,
          "petalWidth": 0.2,
          "sepalLength": 4.8,
          "sepalWidth": 3.4,
          "species": "setosa"
         },
         {
          "petalLength": 1.6,
          "petalWidth": 0.2,
          "sepalLength": 5,
          "sepalWidth": 3,
          "species": "setosa"
         },
         {
          "petalLength": 1.6,
          "petalWidth": 0.4,
          "sepalLength": 5,
          "sepalWidth": 3.4,
          "species": "setosa"
         },
         {
          "petalLength": 1.5,
          "petalWidth": 0.2,
          "sepalLength": 5.2,
          "sepalWidth": 3.5,
          "species": "setosa"
         },
         {
          "petalLength": 1.4,
          "petalWidth": 0.2,
          "sepalLength": 5.2,
          "sepalWidth": 3.4,
          "species": "setosa"
         },
         {
          "petalLength": 1.6,
          "petalWidth": 0.2,
          "sepalLength": 4.7,
          "sepalWidth": 3.2,
          "species": "setosa"
         },
         {
          "petalLength": 1.6,
          "petalWidth": 0.2,
          "sepalLength": 4.8,
          "sepalWidth": 3.1,
          "species": "setosa"
         },
         {
          "petalLength": 1.5,
          "petalWidth": 0.4,
          "sepalLength": 5.4,
          "sepalWidth": 3.4,
          "species": "setosa"
         },
         {
          "petalLength": 1.5,
          "petalWidth": 0.1,
          "sepalLength": 5.2,
          "sepalWidth": 4.1,
          "species": "setosa"
         },
         {
          "petalLength": 1.4,
          "petalWidth": 0.2,
          "sepalLength": 5.5,
          "sepalWidth": 4.2,
          "species": "setosa"
         },
         {
          "petalLength": 1.5,
          "petalWidth": 0.2,
          "sepalLength": 4.9,
          "sepalWidth": 3.1,
          "species": "setosa"
         },
         {
          "petalLength": 1.2,
          "petalWidth": 0.2,
          "sepalLength": 5,
          "sepalWidth": 3.2,
          "species": "setosa"
         },
         {
          "petalLength": 1.3,
          "petalWidth": 0.2,
          "sepalLength": 5.5,
          "sepalWidth": 3.5,
          "species": "setosa"
         },
         {
          "petalLength": 1.4,
          "petalWidth": 0.1,
          "sepalLength": 4.9,
          "sepalWidth": 3.6,
          "species": "setosa"
         },
         {
          "petalLength": 1.3,
          "petalWidth": 0.2,
          "sepalLength": 4.4,
          "sepalWidth": 3,
          "species": "setosa"
         },
         {
          "petalLength": 1.5,
          "petalWidth": 0.2,
          "sepalLength": 5.1,
          "sepalWidth": 3.4,
          "species": "setosa"
         },
         {
          "petalLength": 1.3,
          "petalWidth": 0.30000000000000004,
          "sepalLength": 5,
          "sepalWidth": 3.5,
          "species": "setosa"
         },
         {
          "petalLength": 1.3,
          "petalWidth": 0.30000000000000004,
          "sepalLength": 4.5,
          "sepalWidth": 2.3,
          "species": "setosa"
         },
         {
          "petalLength": 1.3,
          "petalWidth": 0.2,
          "sepalLength": 4.4,
          "sepalWidth": 3.2,
          "species": "setosa"
         },
         {
          "petalLength": 1.6,
          "petalWidth": 0.6000000000000001,
          "sepalLength": 5,
          "sepalWidth": 3.5,
          "species": "setosa"
         },
         {
          "petalLength": 1.9,
          "petalWidth": 0.4,
          "sepalLength": 5.1,
          "sepalWidth": 3.8,
          "species": "setosa"
         },
         {
          "petalLength": 1.4,
          "petalWidth": 0.30000000000000004,
          "sepalLength": 4.8,
          "sepalWidth": 3,
          "species": "setosa"
         },
         {
          "petalLength": 1.6,
          "petalWidth": 0.2,
          "sepalLength": 5.1,
          "sepalWidth": 3.8,
          "species": "setosa"
         },
         {
          "petalLength": 1.4,
          "petalWidth": 0.2,
          "sepalLength": 4.6,
          "sepalWidth": 3.2,
          "species": "setosa"
         },
         {
          "petalLength": 1.5,
          "petalWidth": 0.2,
          "sepalLength": 5.3,
          "sepalWidth": 3.7,
          "species": "setosa"
         },
         {
          "petalLength": 1.4,
          "petalWidth": 0.2,
          "sepalLength": 5,
          "sepalWidth": 3.3,
          "species": "setosa"
         },
         {
          "petalLength": 4.7,
          "petalWidth": 1.4,
          "sepalLength": 7,
          "sepalWidth": 3.2,
          "species": "versicolor"
         },
         {
          "petalLength": 4.5,
          "petalWidth": 1.5,
          "sepalLength": 6.4,
          "sepalWidth": 3.2,
          "species": "versicolor"
         },
         {
          "petalLength": 4.9,
          "petalWidth": 1.5,
          "sepalLength": 6.9,
          "sepalWidth": 3.1,
          "species": "versicolor"
         },
         {
          "petalLength": 4,
          "petalWidth": 1.3,
          "sepalLength": 5.5,
          "sepalWidth": 2.3,
          "species": "versicolor"
         },
         {
          "petalLength": 4.6,
          "petalWidth": 1.5,
          "sepalLength": 6.5,
          "sepalWidth": 2.8,
          "species": "versicolor"
         },
         {
          "petalLength": 4.5,
          "petalWidth": 1.3,
          "sepalLength": 5.7,
          "sepalWidth": 2.8,
          "species": "versicolor"
         },
         {
          "petalLength": 4.7,
          "petalWidth": 1.6,
          "sepalLength": 6.3,
          "sepalWidth": 3.3,
          "species": "versicolor"
         },
         {
          "petalLength": 3.3,
          "petalWidth": 1,
          "sepalLength": 4.9,
          "sepalWidth": 2.4,
          "species": "versicolor"
         },
         {
          "petalLength": 4.6,
          "petalWidth": 1.3,
          "sepalLength": 6.6,
          "sepalWidth": 2.9,
          "species": "versicolor"
         },
         {
          "petalLength": 3.9,
          "petalWidth": 1.4,
          "sepalLength": 5.2,
          "sepalWidth": 2.7,
          "species": "versicolor"
         },
         {
          "petalLength": 3.5,
          "petalWidth": 1,
          "sepalLength": 5,
          "sepalWidth": 2,
          "species": "versicolor"
         },
         {
          "petalLength": 4.2,
          "petalWidth": 1.5,
          "sepalLength": 5.9,
          "sepalWidth": 3,
          "species": "versicolor"
         },
         {
          "petalLength": 4,
          "petalWidth": 1,
          "sepalLength": 6,
          "sepalWidth": 2.2,
          "species": "versicolor"
         },
         {
          "petalLength": 4.7,
          "petalWidth": 1.4,
          "sepalLength": 6.1,
          "sepalWidth": 2.9,
          "species": "versicolor"
         },
         {
          "petalLength": 3.6,
          "petalWidth": 1.3,
          "sepalLength": 5.6,
          "sepalWidth": 2.9,
          "species": "versicolor"
         },
         {
          "petalLength": 4.4,
          "petalWidth": 1.4,
          "sepalLength": 6.7,
          "sepalWidth": 3.1,
          "species": "versicolor"
         },
         {
          "petalLength": 4.5,
          "petalWidth": 1.5,
          "sepalLength": 5.6,
          "sepalWidth": 3,
          "species": "versicolor"
         },
         {
          "petalLength": 4.1,
          "petalWidth": 1,
          "sepalLength": 5.8,
          "sepalWidth": 2.7,
          "species": "versicolor"
         },
         {
          "petalLength": 4.5,
          "petalWidth": 1.5,
          "sepalLength": 6.2,
          "sepalWidth": 2.2,
          "species": "versicolor"
         },
         {
          "petalLength": 3.9,
          "petalWidth": 1.1,
          "sepalLength": 5.6,
          "sepalWidth": 2.5,
          "species": "versicolor"
         },
         {
          "petalLength": 4.8,
          "petalWidth": 1.8,
          "sepalLength": 5.9,
          "sepalWidth": 3.2,
          "species": "versicolor"
         },
         {
          "petalLength": 4,
          "petalWidth": 1.3,
          "sepalLength": 6.1,
          "sepalWidth": 2.8,
          "species": "versicolor"
         },
         {
          "petalLength": 4.9,
          "petalWidth": 1.5,
          "sepalLength": 6.3,
          "sepalWidth": 2.5,
          "species": "versicolor"
         },
         {
          "petalLength": 4.7,
          "petalWidth": 1.2,
          "sepalLength": 6.1,
          "sepalWidth": 2.8,
          "species": "versicolor"
         },
         {
          "petalLength": 4.3,
          "petalWidth": 1.3,
          "sepalLength": 6.4,
          "sepalWidth": 2.9,
          "species": "versicolor"
         },
         {
          "petalLength": 4.4,
          "petalWidth": 1.4,
          "sepalLength": 6.6,
          "sepalWidth": 3,
          "species": "versicolor"
         },
         {
          "petalLength": 4.8,
          "petalWidth": 1.4,
          "sepalLength": 6.8,
          "sepalWidth": 2.8,
          "species": "versicolor"
         },
         {
          "petalLength": 5,
          "petalWidth": 1.7000000000000002,
          "sepalLength": 6.7,
          "sepalWidth": 3,
          "species": "versicolor"
         },
         {
          "petalLength": 4.5,
          "petalWidth": 1.5,
          "sepalLength": 6,
          "sepalWidth": 2.9,
          "species": "versicolor"
         },
         {
          "petalLength": 3.5,
          "petalWidth": 1,
          "sepalLength": 5.7,
          "sepalWidth": 2.6,
          "species": "versicolor"
         },
         {
          "petalLength": 3.8,
          "petalWidth": 1.1,
          "sepalLength": 5.5,
          "sepalWidth": 2.4,
          "species": "versicolor"
         },
         {
          "petalLength": 3.7,
          "petalWidth": 1,
          "sepalLength": 5.5,
          "sepalWidth": 2.4,
          "species": "versicolor"
         },
         {
          "petalLength": 3.9,
          "petalWidth": 1.2,
          "sepalLength": 5.8,
          "sepalWidth": 2.7,
          "species": "versicolor"
         },
         {
          "petalLength": 5.1,
          "petalWidth": 1.6,
          "sepalLength": 6,
          "sepalWidth": 2.7,
          "species": "versicolor"
         },
         {
          "petalLength": 4.5,
          "petalWidth": 1.5,
          "sepalLength": 5.4,
          "sepalWidth": 3,
          "species": "versicolor"
         },
         {
          "petalLength": 4.5,
          "petalWidth": 1.6,
          "sepalLength": 6,
          "sepalWidth": 3.4,
          "species": "versicolor"
         },
         {
          "petalLength": 4.7,
          "petalWidth": 1.5,
          "sepalLength": 6.7,
          "sepalWidth": 3.1,
          "species": "versicolor"
         },
         {
          "petalLength": 4.4,
          "petalWidth": 1.3,
          "sepalLength": 6.3,
          "sepalWidth": 2.3,
          "species": "versicolor"
         },
         {
          "petalLength": 4.1,
          "petalWidth": 1.3,
          "sepalLength": 5.6,
          "sepalWidth": 3,
          "species": "versicolor"
         },
         {
          "petalLength": 4,
          "petalWidth": 1.3,
          "sepalLength": 5.5,
          "sepalWidth": 2.5,
          "species": "versicolor"
         },
         {
          "petalLength": 4.4,
          "petalWidth": 1.2,
          "sepalLength": 5.5,
          "sepalWidth": 2.6,
          "species": "versicolor"
         },
         {
          "petalLength": 4.6,
          "petalWidth": 1.4,
          "sepalLength": 6.1,
          "sepalWidth": 3,
          "species": "versicolor"
         },
         {
          "petalLength": 4,
          "petalWidth": 1.2,
          "sepalLength": 5.8,
          "sepalWidth": 2.6,
          "species": "versicolor"
         },
         {
          "petalLength": 3.3,
          "petalWidth": 1,
          "sepalLength": 5,
          "sepalWidth": 2.3,
          "species": "versicolor"
         },
         {
          "petalLength": 4.2,
          "petalWidth": 1.3,
          "sepalLength": 5.6,
          "sepalWidth": 2.7,
          "species": "versicolor"
         },
         {
          "petalLength": 4.2,
          "petalWidth": 1.2,
          "sepalLength": 5.7,
          "sepalWidth": 3,
          "species": "versicolor"
         },
         {
          "petalLength": 4.2,
          "petalWidth": 1.3,
          "sepalLength": 5.7,
          "sepalWidth": 2.9,
          "species": "versicolor"
         },
         {
          "petalLength": 4.3,
          "petalWidth": 1.3,
          "sepalLength": 6.2,
          "sepalWidth": 2.9,
          "species": "versicolor"
         },
         {
          "petalLength": 3,
          "petalWidth": 1.1,
          "sepalLength": 5.1,
          "sepalWidth": 2.5,
          "species": "versicolor"
         },
         {
          "petalLength": 4.1,
          "petalWidth": 1.3,
          "sepalLength": 5.7,
          "sepalWidth": 2.8,
          "species": "versicolor"
         },
         {
          "petalLength": 6,
          "petalWidth": 2.5,
          "sepalLength": 6.3,
          "sepalWidth": 3.3,
          "species": "virginica"
         },
         {
          "petalLength": 5.1,
          "petalWidth": 1.9,
          "sepalLength": 5.8,
          "sepalWidth": 2.7,
          "species": "virginica"
         },
         {
          "petalLength": 5.9,
          "petalWidth": 2.1,
          "sepalLength": 7.1,
          "sepalWidth": 3,
          "species": "virginica"
         },
         {
          "petalLength": 5.6,
          "petalWidth": 1.8,
          "sepalLength": 6.3,
          "sepalWidth": 2.9,
          "species": "virginica"
         },
         {
          "petalLength": 5.8,
          "petalWidth": 2.2,
          "sepalLength": 6.5,
          "sepalWidth": 3,
          "species": "virginica"
         },
         {
          "petalLength": 6.6,
          "petalWidth": 2.1,
          "sepalLength": 7.6,
          "sepalWidth": 3,
          "species": "virginica"
         },
         {
          "petalLength": 4.5,
          "petalWidth": 1.7000000000000002,
          "sepalLength": 4.9,
          "sepalWidth": 2.5,
          "species": "virginica"
         },
         {
          "petalLength": 6.3,
          "petalWidth": 1.8,
          "sepalLength": 7.3,
          "sepalWidth": 2.9,
          "species": "virginica"
         },
         {
          "petalLength": 5.8,
          "petalWidth": 1.8,
          "sepalLength": 6.7,
          "sepalWidth": 2.5,
          "species": "virginica"
         },
         {
          "petalLength": 6.1,
          "petalWidth": 2.5,
          "sepalLength": 7.2,
          "sepalWidth": 3.6,
          "species": "virginica"
         },
         {
          "petalLength": 5.1,
          "petalWidth": 2,
          "sepalLength": 6.5,
          "sepalWidth": 3.2,
          "species": "virginica"
         },
         {
          "petalLength": 5.3,
          "petalWidth": 1.9,
          "sepalLength": 6.4,
          "sepalWidth": 2.7,
          "species": "virginica"
         },
         {
          "petalLength": 5.5,
          "petalWidth": 2.1,
          "sepalLength": 6.8,
          "sepalWidth": 3,
          "species": "virginica"
         },
         {
          "petalLength": 5,
          "petalWidth": 2,
          "sepalLength": 5.7,
          "sepalWidth": 2.5,
          "species": "virginica"
         },
         {
          "petalLength": 5.1,
          "petalWidth": 2.4,
          "sepalLength": 5.8,
          "sepalWidth": 2.8,
          "species": "virginica"
         },
         {
          "petalLength": 5.3,
          "petalWidth": 2.3,
          "sepalLength": 6.4,
          "sepalWidth": 3.2,
          "species": "virginica"
         },
         {
          "petalLength": 5.5,
          "petalWidth": 1.8,
          "sepalLength": 6.5,
          "sepalWidth": 3,
          "species": "virginica"
         },
         {
          "petalLength": 6.7,
          "petalWidth": 2.2,
          "sepalLength": 7.7,
          "sepalWidth": 3.8,
          "species": "virginica"
         },
         {
          "petalLength": 6.9,
          "petalWidth": 2.3,
          "sepalLength": 7.7,
          "sepalWidth": 2.6,
          "species": "virginica"
         },
         {
          "petalLength": 5,
          "petalWidth": 1.5,
          "sepalLength": 6,
          "sepalWidth": 2.2,
          "species": "virginica"
         },
         {
          "petalLength": 5.7,
          "petalWidth": 2.3,
          "sepalLength": 6.9,
          "sepalWidth": 3.2,
          "species": "virginica"
         },
         {
          "petalLength": 4.9,
          "petalWidth": 2,
          "sepalLength": 5.6,
          "sepalWidth": 2.8,
          "species": "virginica"
         },
         {
          "petalLength": 6.7,
          "petalWidth": 2,
          "sepalLength": 7.7,
          "sepalWidth": 2.8,
          "species": "virginica"
         },
         {
          "petalLength": 4.9,
          "petalWidth": 1.8,
          "sepalLength": 6.3,
          "sepalWidth": 2.7,
          "species": "virginica"
         },
         {
          "petalLength": 5.7,
          "petalWidth": 2.1,
          "sepalLength": 6.7,
          "sepalWidth": 3.3,
          "species": "virginica"
         },
         {
          "petalLength": 6,
          "petalWidth": 1.8,
          "sepalLength": 7.2,
          "sepalWidth": 3.2,
          "species": "virginica"
         },
         {
          "petalLength": 4.8,
          "petalWidth": 1.8,
          "sepalLength": 6.2,
          "sepalWidth": 2.8,
          "species": "virginica"
         },
         {
          "petalLength": 4.9,
          "petalWidth": 1.8,
          "sepalLength": 6.1,
          "sepalWidth": 3,
          "species": "virginica"
         },
         {
          "petalLength": 5.6,
          "petalWidth": 2.1,
          "sepalLength": 6.4,
          "sepalWidth": 2.8,
          "species": "virginica"
         },
         {
          "petalLength": 5.8,
          "petalWidth": 1.6,
          "sepalLength": 7.2,
          "sepalWidth": 3,
          "species": "virginica"
         },
         {
          "petalLength": 6.1,
          "petalWidth": 1.9,
          "sepalLength": 7.4,
          "sepalWidth": 2.8,
          "species": "virginica"
         },
         {
          "petalLength": 6.4,
          "petalWidth": 2,
          "sepalLength": 7.9,
          "sepalWidth": 3.8,
          "species": "virginica"
         },
         {
          "petalLength": 5.6,
          "petalWidth": 2.2,
          "sepalLength": 6.4,
          "sepalWidth": 2.8,
          "species": "virginica"
         },
         {
          "petalLength": 5.1,
          "petalWidth": 1.5,
          "sepalLength": 6.3,
          "sepalWidth": 2.8,
          "species": "virginica"
         },
         {
          "petalLength": 5.6,
          "petalWidth": 1.4,
          "sepalLength": 6.1,
          "sepalWidth": 2.6,
          "species": "virginica"
         },
         {
          "petalLength": 6.1,
          "petalWidth": 2.3,
          "sepalLength": 7.7,
          "sepalWidth": 3,
          "species": "virginica"
         },
         {
          "petalLength": 5.6,
          "petalWidth": 2.4,
          "sepalLength": 6.3,
          "sepalWidth": 3.4,
          "species": "virginica"
         },
         {
          "petalLength": 5.5,
          "petalWidth": 1.8,
          "sepalLength": 6.4,
          "sepalWidth": 3.1,
          "species": "virginica"
         },
         {
          "petalLength": 4.8,
          "petalWidth": 1.8,
          "sepalLength": 6,
          "sepalWidth": 3,
          "species": "virginica"
         },
         {
          "petalLength": 5.4,
          "petalWidth": 2.1,
          "sepalLength": 6.9,
          "sepalWidth": 3.1,
          "species": "virginica"
         },
         {
          "petalLength": 5.6,
          "petalWidth": 2.4,
          "sepalLength": 6.7,
          "sepalWidth": 3.1,
          "species": "virginica"
         },
         {
          "petalLength": 5.1,
          "petalWidth": 2.3,
          "sepalLength": 6.9,
          "sepalWidth": 3.1,
          "species": "virginica"
         },
         {
          "petalLength": 5.1,
          "petalWidth": 1.9,
          "sepalLength": 5.8,
          "sepalWidth": 2.7,
          "species": "virginica"
         },
         {
          "petalLength": 5.9,
          "petalWidth": 2.3,
          "sepalLength": 6.8,
          "sepalWidth": 3.2,
          "species": "virginica"
         },
         {
          "petalLength": 5.7,
          "petalWidth": 2.5,
          "sepalLength": 6.7,
          "sepalWidth": 3.3,
          "species": "virginica"
         },
         {
          "petalLength": 5.2,
          "petalWidth": 2.3,
          "sepalLength": 6.7,
          "sepalWidth": 3,
          "species": "virginica"
         },
         {
          "petalLength": 5,
          "petalWidth": 1.9,
          "sepalLength": 6.3,
          "sepalWidth": 2.5,
          "species": "virginica"
         },
         {
          "petalLength": 5.2,
          "petalWidth": 2,
          "sepalLength": 6.5,
          "sepalWidth": 3,
          "species": "virginica"
         },
         {
          "petalLength": 5.4,
          "petalWidth": 2.3,
          "sepalLength": 6.2,
          "sepalWidth": 3.4,
          "species": "virginica"
         },
         {
          "petalLength": 5.1,
          "petalWidth": 1.8,
          "sepalLength": 5.9,
          "sepalWidth": 3,
          "species": "virginica"
         }
        ]
       },
       "encoding": {
        "color": {
         "field": "species",
         "type": "nominal"
        },
        "x": {
         "field": "petalLength",
         "type": "quantitative"
        },
        "y": {
         "field": "petalWidth",
         "type": "quantitative"
        }
       },
       "mark": "point"
      },
      "image/png": "[encoded data removed]",
      "text/plain": [
       "<VegaLite 3 object>\n",
       "\n",
       "If you see this message, it means the renderer has not been properly enabled\n",
       "for the frontend that you are using. For more information, see\n",
       "https://altair-viz.github.io/user_guide/troubleshooting.html\n"
      ]
     },
     "execution_count": 2,
     "metadata": {},
     "output_type": "execute_result"
    }
   ],
   "source": [
    "import altair as alt\n",
    "from vega_datasets import data\n",
    "\n",
    "iris = data.iris()\n",
    "\n",
    "alt.Chart(iris).mark_point().encode(\n",
    "    x='petalLength',\n",
    "    y='petalWidth',\n",
    "    color='species'\n",
    ")"
   ]
  },
  {
   "cell_type": "code",
   "execution_count": 3,
   "metadata": {},
   "outputs": [],
   "source": [
    "# from https://www.kaggle.com/artgor/artgor-utils\n",
    "def reduce_mem_usage(df, verbose=True):\n",
    "    numerics = ['int16', 'int32', 'int64', 'float16', 'float32', 'float64']\n",
    "    start_mem = df.memory_usage().sum() / 1024**2    \n",
    "    for col in df.columns:\n",
    "        col_type = df[col].dtypes\n",
    "        if col_type in numerics:\n",
    "            c_min = df[col].min()\n",
    "            c_max = df[col].max()\n",
    "            if str(col_type)[:3] == 'int':\n",
    "                if c_min > np.iinfo(np.int8).min and c_max < np.iinfo(np.int8).max:\n",
    "                    df[col] = df[col].astype(np.int8)\n",
    "                elif c_min > np.iinfo(np.int16).min and c_max < np.iinfo(np.int16).max:\n",
    "                    df[col] = df[col].astype(np.int16)\n",
    "                elif c_min > np.iinfo(np.int32).min and c_max < np.iinfo(np.int32).max:\n",
    "                    df[col] = df[col].astype(np.int32)\n",
    "                elif c_min > np.iinfo(np.int64).min and c_max < np.iinfo(np.int64).max:\n",
    "                    df[col] = df[col].astype(np.int64)  \n",
    "            else:\n",
    "                if c_min > np.finfo(np.float16).min and c_max < np.finfo(np.float16).max:\n",
    "                    df[col] = df[col].astype(np.float16)\n",
    "                elif c_min > np.finfo(np.float32).min and c_max < np.finfo(np.float32).max:\n",
    "                    df[col] = df[col].astype(np.float32)\n",
    "                else:\n",
    "                    df[col] = df[col].astype(np.float64)    \n",
    "    end_mem = df.memory_usage().sum() / 1024**2\n",
    "    if verbose: print('Mem. usage decreased to {:5.2f} Mb ({:.1f}% reduction)'.format(end_mem, 100 * (start_mem - end_mem) / start_mem))\n",
    "    return df\n",
    "    \n"
   ]
  },
  {
   "cell_type": "markdown",
   "metadata": {},
   "source": [
    "## Data loading and overview"
   ]
  },
  {
   "cell_type": "code",
   "execution_count": 4,
   "metadata": {
    "_cell_guid": "79c7e3d0-c299-4dcb-8224-4455121ee9b0",
    "_uuid": "d629ff2d2480ee46fbb7e2d37f6b5fab8052498a"
   },
   "outputs": [],
   "source": [
    "train = pd.read_csv('../../champs-scalar-coupling/train.csv')\n",
    "test = pd.read_csv('../../champs-scalar-coupling/test.csv')\n",
    "sub = pd.read_csv('../../champs-scalar-coupling/sample_submission.csv')"
   ]
  },
  {
   "cell_type": "code",
   "execution_count": 5,
   "metadata": {},
   "outputs": [
    {
     "name": "stdout",
     "output_type": "stream",
     "text": [
      "There are 4658147 rows in train data.\n",
      "There are 2505542 rows in test data.\n",
      "There are 85003 distinct molecules in train data.\n",
      "There are 45772 distinct molecules in test data.\n",
      "There are 29 unique atoms.\n",
      "There are 8 unique types.\n"
     ]
    }
   ],
   "source": [
    "print(f'There are {train.shape[0]} rows in train data.')\n",
    "print(f'There are {test.shape[0]} rows in test data.')\n",
    "\n",
    "print(f\"There are {train['molecule_name'].nunique()} distinct molecules in train data.\")\n",
    "print(f\"There are {test['molecule_name'].nunique()} distinct molecules in test data.\")\n",
    "print(f\"There are {train['atom_index_0'].nunique()} unique atoms.\")\n",
    "print(f\"There are {train['type'].nunique()} unique types.\")"
   ]
  },
  {
   "cell_type": "code",
   "execution_count": 6,
   "metadata": {},
   "outputs": [
    {
     "data": {
      "text/html": [
       "<div>\n",
       "<style scoped>\n",
       "    .dataframe tbody tr th:only-of-type {\n",
       "        vertical-align: middle;\n",
       "    }\n",
       "\n",
       "    .dataframe tbody tr th {\n",
       "        vertical-align: top;\n",
       "    }\n",
       "\n",
       "    .dataframe thead th {\n",
       "        text-align: right;\n",
       "    }\n",
       "</style>\n",
       "<table border=\"1\" class=\"dataframe\">\n",
       "  <thead>\n",
       "    <tr style=\"text-align: right;\">\n",
       "      <th></th>\n",
       "      <th>id</th>\n",
       "      <th>molecule_name</th>\n",
       "      <th>atom_index_0</th>\n",
       "      <th>atom_index_1</th>\n",
       "      <th>type</th>\n",
       "      <th>scalar_coupling_constant</th>\n",
       "    </tr>\n",
       "  </thead>\n",
       "  <tbody>\n",
       "    <tr>\n",
       "      <th>0</th>\n",
       "      <td>0</td>\n",
       "      <td>dsgdb9nsd_000001</td>\n",
       "      <td>1</td>\n",
       "      <td>0</td>\n",
       "      <td>1JHC</td>\n",
       "      <td>84.807599999999994</td>\n",
       "    </tr>\n",
       "    <tr>\n",
       "      <th>1</th>\n",
       "      <td>1</td>\n",
       "      <td>dsgdb9nsd_000001</td>\n",
       "      <td>1</td>\n",
       "      <td>2</td>\n",
       "      <td>2JHH</td>\n",
       "      <td>-11.257000000000000</td>\n",
       "    </tr>\n",
       "    <tr>\n",
       "      <th>2</th>\n",
       "      <td>2</td>\n",
       "      <td>dsgdb9nsd_000001</td>\n",
       "      <td>1</td>\n",
       "      <td>3</td>\n",
       "      <td>2JHH</td>\n",
       "      <td>-11.254799999999999</td>\n",
       "    </tr>\n",
       "    <tr>\n",
       "      <th>3</th>\n",
       "      <td>3</td>\n",
       "      <td>dsgdb9nsd_000001</td>\n",
       "      <td>1</td>\n",
       "      <td>4</td>\n",
       "      <td>2JHH</td>\n",
       "      <td>-11.254300000000001</td>\n",
       "    </tr>\n",
       "    <tr>\n",
       "      <th>4</th>\n",
       "      <td>4</td>\n",
       "      <td>dsgdb9nsd_000001</td>\n",
       "      <td>2</td>\n",
       "      <td>0</td>\n",
       "      <td>1JHC</td>\n",
       "      <td>84.807400000000001</td>\n",
       "    </tr>\n",
       "  </tbody>\n",
       "</table>\n",
       "</div>"
      ],
      "text/plain": [
       "   id     molecule_name  atom_index_0  atom_index_1  type  \\\n",
       "0   0  dsgdb9nsd_000001             1             0  1JHC   \n",
       "1   1  dsgdb9nsd_000001             1             2  2JHH   \n",
       "2   2  dsgdb9nsd_000001             1             3  2JHH   \n",
       "3   3  dsgdb9nsd_000001             1             4  2JHH   \n",
       "4   4  dsgdb9nsd_000001             2             0  1JHC   \n",
       "\n",
       "   scalar_coupling_constant  \n",
       "0        84.807599999999994  \n",
       "1       -11.257000000000000  \n",
       "2       -11.254799999999999  \n",
       "3       -11.254300000000001  \n",
       "4        84.807400000000001  "
      ]
     },
     "execution_count": 6,
     "metadata": {},
     "output_type": "execute_result"
    }
   ],
   "source": [
    "train.head()"
   ]
  },
  {
   "cell_type": "markdown",
   "metadata": {},
   "source": [
    "So in out main data files we have information about moleculas and pairs of atoms\n",
    "- test set in ~2 times smaller that train set;\n",
    "- we have 29 unique atoms types and 8 coupling types;"
   ]
  },
  {
   "cell_type": "code",
   "execution_count": 7,
   "metadata": {},
   "outputs": [
    {
     "data": {
      "text/html": [
       "<div>\n",
       "<style scoped>\n",
       "    .dataframe tbody tr th:only-of-type {\n",
       "        vertical-align: middle;\n",
       "    }\n",
       "\n",
       "    .dataframe tbody tr th {\n",
       "        vertical-align: top;\n",
       "    }\n",
       "\n",
       "    .dataframe thead th {\n",
       "        text-align: right;\n",
       "    }\n",
       "</style>\n",
       "<table border=\"1\" class=\"dataframe\">\n",
       "  <thead>\n",
       "    <tr style=\"text-align: right;\">\n",
       "      <th></th>\n",
       "      <th>id</th>\n",
       "      <th>atom_index_0</th>\n",
       "      <th>atom_index_1</th>\n",
       "      <th>scalar_coupling_constant</th>\n",
       "    </tr>\n",
       "  </thead>\n",
       "  <tbody>\n",
       "    <tr>\n",
       "      <th>count</th>\n",
       "      <td>4.658147000000000e+06</td>\n",
       "      <td>4.658147000000000e+06</td>\n",
       "      <td>4.658147000000000e+06</td>\n",
       "      <td>4.658147000000000e+06</td>\n",
       "    </tr>\n",
       "    <tr>\n",
       "      <th>mean</th>\n",
       "      <td>2.329073000000000e+06</td>\n",
       "      <td>1.335688568866547e+01</td>\n",
       "      <td>5.883966306773917e+00</td>\n",
       "      <td>1.592164991825936e+01</td>\n",
       "    </tr>\n",
       "    <tr>\n",
       "      <th>std</th>\n",
       "      <td>1.344691356527209e+06</td>\n",
       "      <td>3.267712409449629e+00</td>\n",
       "      <td>4.993943098105586e+00</td>\n",
       "      <td>3.494197741570011e+01</td>\n",
       "    </tr>\n",
       "    <tr>\n",
       "      <th>min</th>\n",
       "      <td>0.000000000000000e+00</td>\n",
       "      <td>0.000000000000000e+00</td>\n",
       "      <td>0.000000000000000e+00</td>\n",
       "      <td>-3.621860000000000e+01</td>\n",
       "    </tr>\n",
       "    <tr>\n",
       "      <th>25%</th>\n",
       "      <td>1.164536500000000e+06</td>\n",
       "      <td>1.100000000000000e+01</td>\n",
       "      <td>2.000000000000000e+00</td>\n",
       "      <td>-2.549780000000000e-01</td>\n",
       "    </tr>\n",
       "    <tr>\n",
       "      <th>50%</th>\n",
       "      <td>2.329073000000000e+06</td>\n",
       "      <td>1.300000000000000e+01</td>\n",
       "      <td>5.000000000000000e+00</td>\n",
       "      <td>2.281130000000000e+00</td>\n",
       "    </tr>\n",
       "    <tr>\n",
       "      <th>75%</th>\n",
       "      <td>3.493609500000000e+06</td>\n",
       "      <td>1.600000000000000e+01</td>\n",
       "      <td>8.000000000000000e+00</td>\n",
       "      <td>7.390655000000000e+00</td>\n",
       "    </tr>\n",
       "    <tr>\n",
       "      <th>max</th>\n",
       "      <td>4.658146000000000e+06</td>\n",
       "      <td>2.800000000000000e+01</td>\n",
       "      <td>2.800000000000000e+01</td>\n",
       "      <td>2.048800000000000e+02</td>\n",
       "    </tr>\n",
       "  </tbody>\n",
       "</table>\n",
       "</div>"
      ],
      "text/plain": [
       "                          id           atom_index_0           atom_index_1  \\\n",
       "count  4.658147000000000e+06  4.658147000000000e+06  4.658147000000000e+06   \n",
       "mean   2.329073000000000e+06  1.335688568866547e+01  5.883966306773917e+00   \n",
       "std    1.344691356527209e+06  3.267712409449629e+00  4.993943098105586e+00   \n",
       "min    0.000000000000000e+00  0.000000000000000e+00  0.000000000000000e+00   \n",
       "25%    1.164536500000000e+06  1.100000000000000e+01  2.000000000000000e+00   \n",
       "50%    2.329073000000000e+06  1.300000000000000e+01  5.000000000000000e+00   \n",
       "75%    3.493609500000000e+06  1.600000000000000e+01  8.000000000000000e+00   \n",
       "max    4.658146000000000e+06  2.800000000000000e+01  2.800000000000000e+01   \n",
       "\n",
       "       scalar_coupling_constant  \n",
       "count     4.658147000000000e+06  \n",
       "mean      1.592164991825936e+01  \n",
       "std       3.494197741570011e+01  \n",
       "min      -3.621860000000000e+01  \n",
       "25%      -2.549780000000000e-01  \n",
       "50%       2.281130000000000e+00  \n",
       "75%       7.390655000000000e+00  \n",
       "max       2.048800000000000e+02  "
      ]
     },
     "execution_count": 7,
     "metadata": {},
     "output_type": "execute_result"
    }
   ],
   "source": [
    "train.describe()"
   ]
  },
  {
   "cell_type": "code",
   "execution_count": 8,
   "metadata": {
    "_kg_hide-input": true
   },
   "outputs": [
    {
     "data": {
      "application/vnd.vegalite.v3+json": {
       "$schema": "https://vega.github.io/schema/vega-lite/v3.3.0.json",
       "config": {
        "mark": {
         "tooltip": null
        },
        "view": {
         "height": 300,
         "width": 400
        }
       },
       "datasets": {
        "data-49f16c2b497caf509825d63ea0302313": [
         {
          "bins": "(-36.46, -24.164]",
          "scalar_coupling_constant": 92
         },
         {
          "bins": "(-24.164, -12.109]",
          "scalar_coupling_constant": 88965
         },
         {
          "bins": "(-12.109, -0.0538]",
          "scalar_coupling_constant": 1171006
         },
         {
          "bins": "(-0.0538, 12.001]",
          "scalar_coupling_constant": 2572510
         },
         {
          "bins": "(12.001, 24.056]",
          "scalar_coupling_constant": 64140
         },
         {
          "bins": "(24.056, 36.111]",
          "scalar_coupling_constant": 18227
         },
         {
          "bins": "(36.111, 48.166]",
          "scalar_coupling_constant": 12397
         },
         {
          "bins": "(48.166, 60.221]",
          "scalar_coupling_constant": 16153
         },
         {
          "bins": "(60.221, 72.276]",
          "scalar_coupling_constant": 5657
         },
         {
          "bins": "(72.276, 84.331]",
          "scalar_coupling_constant": 192254
         },
         {
          "bins": "(84.331, 96.386]",
          "scalar_coupling_constant": 312829
         },
         {
          "bins": "(96.386, 108.441]",
          "scalar_coupling_constant": 76866
         },
         {
          "bins": "(108.441, 120.495]",
          "scalar_coupling_constant": 67526
         },
         {
          "bins": "(120.495, 132.55]",
          "scalar_coupling_constant": 36547
         },
         {
          "bins": "(132.55, 144.605]",
          "scalar_coupling_constant": 12719
         },
         {
          "bins": "(144.605, 156.66]",
          "scalar_coupling_constant": 969
         },
         {
          "bins": "(156.66, 168.715]",
          "scalar_coupling_constant": 29
         },
         {
          "bins": "(168.715, 180.77]",
          "scalar_coupling_constant": 1
         },
         {
          "bins": "(180.77, 192.825]",
          "scalar_coupling_constant": 640
         },
         {
          "bins": "(192.825, 204.88]",
          "scalar_coupling_constant": 8620
         }
        ],
        "data-bd650d94dea89e9b7debcb25ac305b73": [
         {
          "atom_index_0": 12,
          "count": 552263
         },
         {
          "atom_index_0": 13,
          "count": 505229
         },
         {
          "atom_index_0": 9,
          "count": 485891
         },
         {
          "atom_index_0": 14,
          "count": 476556
         },
         {
          "atom_index_0": 10,
          "count": 473624
         },
         {
          "atom_index_0": 11,
          "count": 446131
         },
         {
          "atom_index_0": 15,
          "count": 422173
         },
         {
          "atom_index_0": 16,
          "count": 360001
         },
         {
          "atom_index_0": 17,
          "count": 285575
         },
         {
          "atom_index_0": 18,
          "count": 212841
         },
         {
          "atom_index_0": 19,
          "count": 143722
         },
         {
          "atom_index_0": 20,
          "count": 94149
         },
         {
          "atom_index_0": 8,
          "count": 80296
         },
         {
          "atom_index_0": 21,
          "count": 48795
         },
         {
          "atom_index_0": 22,
          "count": 30594
         },
         {
          "atom_index_0": 7,
          "count": 14104
         },
         {
          "atom_index_0": 23,
          "count": 10245
         },
         {
          "atom_index_0": 24,
          "count": 7108
         },
         {
          "atom_index_0": 6,
          "count": 2825
         },
         {
          "atom_index_0": 25,
          "count": 1439
         },
         {
          "atom_index_0": 26,
          "count": 1050
         },
         {
          "atom_index_0": 5,
          "count": 985
         },
         {
          "atom_index_0": 3,
          "count": 829
         },
         {
          "atom_index_0": 2,
          "count": 651
         },
         {
          "atom_index_0": 4,
          "count": 635
         },
         {
          "atom_index_0": 1,
          "count": 225
         },
         {
          "atom_index_0": 27,
          "count": 116
         },
         {
          "atom_index_0": 28,
          "count": 92
         },
         {
          "atom_index_0": 0,
          "count": 3
         }
        ],
        "data-dc52daaae98aba4f767be711bfd461c0": [
         {
          "atom_index_1": 2,
          "count": 537311
         },
         {
          "atom_index_1": 1,
          "count": 517218
         },
         {
          "atom_index_1": 3,
          "count": 458480
         },
         {
          "atom_index_1": 4,
          "count": 439876
         },
         {
          "atom_index_1": 5,
          "count": 415448
         },
         {
          "atom_index_1": 6,
          "count": 392783
         },
         {
          "atom_index_1": 7,
          "count": 359545
         },
         {
          "atom_index_1": 0,
          "count": 322761
         },
         {
          "atom_index_1": 8,
          "count": 248731
         },
         {
          "atom_index_1": 11,
          "count": 136544
         },
         {
          "atom_index_1": 12,
          "count": 117024
         },
         {
          "atom_index_1": 13,
          "count": 108353
         },
         {
          "atom_index_1": 14,
          "count": 95001
         },
         {
          "atom_index_1": 15,
          "count": 89218
         },
         {
          "atom_index_1": 10,
          "count": 85942
         },
         {
          "atom_index_1": 16,
          "count": 81188
         },
         {
          "atom_index_1": 17,
          "count": 70360
         },
         {
          "atom_index_1": 18,
          "count": 57310
         },
         {
          "atom_index_1": 19,
          "count": 41672
         },
         {
          "atom_index_1": 20,
          "count": 30523
         },
         {
          "atom_index_1": 21,
          "count": 16680
         },
         {
          "atom_index_1": 9,
          "count": 14834
         },
         {
          "atom_index_1": 22,
          "count": 12414
         },
         {
          "atom_index_1": 23,
          "count": 4058
         },
         {
          "atom_index_1": 24,
          "count": 3520
         },
         {
          "atom_index_1": 26,
          "count": 629
         },
         {
          "atom_index_1": 25,
          "count": 596
         },
         {
          "atom_index_1": 28,
          "count": 76
         },
         {
          "atom_index_1": 27,
          "count": 52
         }
        ],
        "data-ebdc32f1be979a9c6ddbf0cea0b853fe": [
         {
          "count": 1510379,
          "type": "3JHC"
         },
         {
          "count": 1140674,
          "type": "2JHC"
         },
         {
          "count": 709416,
          "type": "1JHC"
         },
         {
          "count": 590611,
          "type": "3JHH"
         },
         {
          "count": 378036,
          "type": "2JHH"
         },
         {
          "count": 166415,
          "type": "3JHN"
         },
         {
          "count": 119253,
          "type": "2JHN"
         },
         {
          "count": 43363,
          "type": "1JHN"
         }
        ]
       },
       "vconcat": [
        {
         "hconcat": [
          {
           "data": {
            "name": "data-bd650d94dea89e9b7debcb25ac305b73"
           },
           "encoding": {
            "tooltip": [
             {
              "field": "atom_index_0",
              "type": "quantitative"
             },
             {
              "field": "count",
              "type": "quantitative"
             }
            ],
            "x": {
             "axis": {
              "title": "atom_index_0"
             },
             "field": "atom_index_0",
             "type": "nominal"
            },
            "y": {
             "axis": {
              "title": "Count"
             },
             "field": "count",
             "type": "quantitative"
            }
           },
           "mark": "bar",
           "selection": {
            "selector001": {
             "bind": "scales",
             "encodings": [
              "x",
              "y"
             ],
             "type": "interval"
            }
           },
           "title": "Counts of atom_index_0",
           "width": 350
          },
          {
           "data": {
            "name": "data-dc52daaae98aba4f767be711bfd461c0"
           },
           "encoding": {
            "tooltip": [
             {
              "field": "atom_index_1",
              "type": "quantitative"
             },
             {
              "field": "count",
              "type": "quantitative"
             }
            ],
            "x": {
             "axis": {
              "title": "atom_index_1"
             },
             "field": "atom_index_1",
             "type": "nominal"
            },
            "y": {
             "axis": {
              "title": "Count"
             },
             "field": "count",
             "type": "quantitative"
            }
           },
           "mark": "bar",
           "selection": {
            "selector002": {
             "bind": "scales",
             "encodings": [
              "x",
              "y"
             ],
             "type": "interval"
            }
           },
           "title": "Counts of atom_index_1",
           "width": 350
          }
         ]
        },
        {
         "hconcat": [
          {
           "data": {
            "name": "data-ebdc32f1be979a9c6ddbf0cea0b853fe"
           },
           "encoding": {
            "tooltip": [
             {
              "field": "type",
              "type": "nominal"
             },
             {
              "field": "count",
              "type": "quantitative"
             }
            ],
            "x": {
             "axis": {
              "title": "type"
             },
             "field": "type",
             "type": "nominal"
            },
            "y": {
             "axis": {
              "title": "Count"
             },
             "field": "count",
             "type": "quantitative"
            }
           },
           "mark": "bar",
           "selection": {
            "selector003": {
             "bind": "scales",
             "encodings": [
              "x",
              "y"
             ],
             "type": "interval"
            }
           },
           "title": "Counts of type",
           "width": 350
          },
          {
           "data": {
            "name": "data-49f16c2b497caf509825d63ea0302313"
           },
           "encoding": {
            "tooltip": [
             {
              "field": "scalar_coupling_constant",
              "type": "quantitative"
             },
             {
              "field": "bins",
              "type": "nominal"
             }
            ],
            "x": {
             "axis": {
              "title": "Target bins"
             },
             "field": "bins",
             "type": "ordinal"
            },
            "y": {
             "axis": {
              "title": "Count"
             },
             "field": "scalar_coupling_constant",
             "type": "quantitative"
            }
           },
           "mark": "bar",
           "selection": {
            "selector004": {
             "bind": "scales",
             "encodings": [
              "x",
              "y"
             ],
             "type": "interval"
            }
           },
           "title": "scalar_coupling_constant histogram",
           "width": 400
          }
         ]
        }
       ]
      },
      "image/png": "[encoded data removed]",
      "text/plain": [
       "<VegaLite 3 object>\n",
       "\n",
       "If you see this message, it means the renderer has not been properly enabled\n",
       "for the frontend that you are using. For more information, see\n",
       "https://altair-viz.github.io/user_guide/troubleshooting.html\n"
      ]
     },
     "execution_count": 8,
     "metadata": {},
     "output_type": "execute_result"
    }
   ],
   "source": [
    "atom_count = train['atom_index_0'].value_counts().reset_index().rename(columns={'atom_index_0': 'count', 'index': 'atom_index_0'})\n",
    "chart1 = alt.Chart(atom_count).mark_bar().encode(\n",
    "    x=alt.X(\"atom_index_0:N\", axis=alt.Axis(title='atom_index_0')),\n",
    "    y=alt.Y('count:Q', axis=alt.Axis(title='Count')),\n",
    "    tooltip=['atom_index_0', 'count']\n",
    ").properties(title=\"Counts of atom_index_0\", width=350).interactive()\n",
    "\n",
    "atom_count = train['atom_index_1'].value_counts().reset_index().rename(columns={'atom_index_1': 'count', 'index': 'atom_index_1'})\n",
    "chart2 = alt.Chart(atom_count).mark_bar().encode(\n",
    "    x=alt.X(\"atom_index_1:N\", axis=alt.Axis(title='atom_index_1')),\n",
    "    y=alt.Y('count:Q', axis=alt.Axis(title='Count')),\n",
    "    tooltip=['atom_index_1', 'count']\n",
    ").properties(title=\"Counts of atom_index_1\", width=350).interactive()\n",
    "\n",
    "type_count = train['type'].value_counts().reset_index().rename(columns={'type': 'count', 'index': 'type'})\n",
    "chart3 = alt.Chart(type_count).mark_bar().encode(\n",
    "    x=alt.X(\"type:N\", axis=alt.Axis(title='type')),\n",
    "    y=alt.Y('count:Q', axis=alt.Axis(title='Count')),\n",
    "    tooltip=['type', 'count']\n",
    ").properties(title=\"Counts of type\", width=350).interactive()\n",
    "\n",
    "hist_df = pd.cut(train['scalar_coupling_constant'], 20).value_counts().sort_index().reset_index().rename(columns={'index': 'bins'})\n",
    "hist_df['bins'] = hist_df['bins'].astype(str)\n",
    "chart4 = alt.Chart(hist_df).mark_bar().encode(\n",
    "    x=alt.X(\"bins:O\", axis=alt.Axis(title='Target bins')),\n",
    "    y=alt.Y('scalar_coupling_constant:Q', axis=alt.Axis(title='Count')),\n",
    "    tooltip=['scalar_coupling_constant', 'bins']\n",
    ").properties(title=\"scalar_coupling_constant histogram\", width=400).interactive()\n",
    "\n",
    "\n",
    "(chart1 | chart2) & (chart3 | chart4)"
   ]
  },
  {
   "cell_type": "code",
   "execution_count": 9,
   "metadata": {},
   "outputs": [
    {
     "data": {
      "image/png": "[encoded data removed]",
      "text/plain": [
       "<Figure size 1296x576 with 2 Axes>"
      ]
     },
     "metadata": {
      "needs_background": "light"
     },
     "output_type": "display_data"
    }
   ],
   "source": [
    "fig, ax = plt.subplots(figsize = (18, 8))\n",
    "plt.subplot(1, 2, 1);\n",
    "plt.hist(train['scalar_coupling_constant'], bins=20);\n",
    "plt.title('Basic scalar_coupling_constant histogram');\n",
    "plt.subplot(1, 2, 2);\n",
    "sns.violinplot(x='type', y='scalar_coupling_constant', data=train);\n",
    "plt.title('Violinplot of scalar_coupling_constant by type');"
   ]
  },
  {
   "cell_type": "markdown",
   "metadata": {},
   "source": [
    "There are many interesting things here:\n",
    "- among first atoms there is a little number of atoms with index lower than 7 or higher than 24;\n",
    "- among second atoms there is a little number of atoms with index higher than 24. Also index with atom with index 9 in quite rare;\n",
    "- coupling types are unevenly distributed. There are 3 very popular, 3 quite rare and 2 with medium frequency;\n",
    "- target variable has a bimodal distribution;\n",
    "- different coupling types have really different values of target variable. Maybe it would make sense to build separate models for each of them;"
   ]
  },
  {
   "cell_type": "markdown",
   "metadata": {},
   "source": [
    "## Plotting network graphs by type\n",
    "\n",
    "We have molecules, atom pairs, so this means data, which is interconnected. Network graphs should be useful to visualize such data!"
   ]
  },
  {
   "cell_type": "markdown",
   "metadata": {},
   "source": [
    "## Better network graphs\n",
    "But there is a little problem: as we saw earlier, there are atoms which are very rare, as a result graphs will be skewed due to them. Now I'll drop atoms for each type which are present in less then 1% of connections"
   ]
  },
  {
   "cell_type": "code",
   "execution_count": 10,
   "metadata": {},
   "outputs": [
    {
     "data": {
      "image/png": "[encoded data removed]",
      "text/plain": [
       "<Figure size 1440x864 with 8 Axes>"
      ]
     },
     "metadata": {},
     "output_type": "display_data"
    }
   ],
   "source": [
    "fig, ax = plt.subplots(figsize = (20, 12))\n",
    "for i, t in enumerate(train['type'].unique()):\n",
    "    train_type = train.loc[train['type'] == t]\n",
    "    bad_atoms_0 = list(train_type['atom_index_0'].value_counts(normalize=True)[train_type['atom_index_0'].value_counts(normalize=True) < 0.01].index)\n",
    "    bad_atoms_1 = list(train_type['atom_index_1'].value_counts(normalize=True)[train_type['atom_index_1'].value_counts(normalize=True) < 0.01].index)\n",
    "    bad_atoms = list(set(bad_atoms_0 + bad_atoms_1))\n",
    "    train_type = train_type.loc[(train_type['atom_index_0'].isin(bad_atoms_0) == False) & (train_type['atom_index_1'].isin(bad_atoms_0) == False)]\n",
    "    G = nx.from_pandas_edgelist(train_type, 'atom_index_0', 'atom_index_1', ['scalar_coupling_constant'])\n",
    "    plt.subplot(2, 4, i + 1);\n",
    "    nx.draw(G, with_labels=True);\n",
    "    plt.title(f'Graph for type {t}')"
   ]
  },
  {
   "cell_type": "markdown",
   "metadata": {},
   "source": [
    "Now the graphs are much more clear!"
   ]
  },
  {
   "cell_type": "markdown",
   "metadata": {},
   "source": [
    "## Feature engineering\n",
    "\n",
    "For now I'll use a basic approach to feature engineering.\n",
    "\n",
    "I'll use this useful kernel:\n",
    "https://www.kaggle.com/seriousran/just-speed-up-calculate-distance-from-benchmark"
   ]
  },
  {
   "cell_type": "code",
   "execution_count": 11,
   "metadata": {},
   "outputs": [],
   "source": [
    "structures = pd.read_csv('../../champs-scalar-coupling/structures.csv')\n",
    "\n",
    "def map_atom_info(df, atom_idx):\n",
    "    df = pd.merge(df, structures, how = 'left',\n",
    "                  left_on  = ['molecule_name', f'atom_index_{atom_idx}'],\n",
    "                  right_on = ['molecule_name',  'atom_index'])\n",
    "    \n",
    "    df = df.drop('atom_index', axis=1)\n",
    "    df = df.rename(columns={'atom': f'atom_{atom_idx}',\n",
    "                            'x': f'x_{atom_idx}',\n",
    "                            'y': f'y_{atom_idx}',\n",
    "                            'z': f'z_{atom_idx}'})\n",
    "    return df\n",
    "\n",
    "train = map_atom_info(train, 0)\n",
    "train = map_atom_info(train, 1)\n",
    "\n",
    "test = map_atom_info(test, 0)\n",
    "test = map_atom_info(test, 1)\n",
    "\n",
    "atom_count=structures.groupby(['molecule_name','atom']).size().unstack(fill_value=0)\n",
    "train=pd.merge(train,atom_count, how = 'left', left_on  = 'molecule_name', right_on = 'molecule_name')\n",
    "test=pd.merge(test,atom_count, how = 'left', left_on  = 'molecule_name', right_on = 'molecule_name')"
   ]
  },
  {
   "cell_type": "code",
   "execution_count": 12,
   "metadata": {},
   "outputs": [
    {
     "data": {
      "text/html": [
       "<div>\n",
       "<style scoped>\n",
       "    .dataframe tbody tr th:only-of-type {\n",
       "        vertical-align: middle;\n",
       "    }\n",
       "\n",
       "    .dataframe tbody tr th {\n",
       "        vertical-align: top;\n",
       "    }\n",
       "\n",
       "    .dataframe thead th {\n",
       "        text-align: right;\n",
       "    }\n",
       "</style>\n",
       "<table border=\"1\" class=\"dataframe\">\n",
       "  <thead>\n",
       "    <tr style=\"text-align: right;\">\n",
       "      <th></th>\n",
       "      <th>id</th>\n",
       "      <th>molecule_name</th>\n",
       "      <th>atom_index_0</th>\n",
       "      <th>atom_index_1</th>\n",
       "      <th>type</th>\n",
       "      <th>scalar_coupling_constant</th>\n",
       "      <th>atom_0</th>\n",
       "      <th>x_0</th>\n",
       "      <th>y_0</th>\n",
       "      <th>z_0</th>\n",
       "      <th>atom_1</th>\n",
       "      <th>x_1</th>\n",
       "      <th>y_1</th>\n",
       "      <th>z_1</th>\n",
       "      <th>C</th>\n",
       "      <th>F</th>\n",
       "      <th>H</th>\n",
       "      <th>N</th>\n",
       "      <th>O</th>\n",
       "    </tr>\n",
       "  </thead>\n",
       "  <tbody>\n",
       "    <tr>\n",
       "      <th>0</th>\n",
       "      <td>0</td>\n",
       "      <td>dsgdb9nsd_000001</td>\n",
       "      <td>1</td>\n",
       "      <td>0</td>\n",
       "      <td>1JHC</td>\n",
       "      <td>84.807599999999994</td>\n",
       "      <td>H</td>\n",
       "      <td>0.002150416</td>\n",
       "      <td>-0.0060313176</td>\n",
       "      <td>0.0019761204</td>\n",
       "      <td>C</td>\n",
       "      <td>-0.0126981359</td>\n",
       "      <td>1.085804158</td>\n",
       "      <td>0.0080009958</td>\n",
       "      <td>1</td>\n",
       "      <td>0</td>\n",
       "      <td>4</td>\n",
       "      <td>0</td>\n",
       "      <td>0</td>\n",
       "    </tr>\n",
       "    <tr>\n",
       "      <th>1</th>\n",
       "      <td>1</td>\n",
       "      <td>dsgdb9nsd_000001</td>\n",
       "      <td>1</td>\n",
       "      <td>2</td>\n",
       "      <td>2JHH</td>\n",
       "      <td>-11.257000000000000</td>\n",
       "      <td>H</td>\n",
       "      <td>0.002150416</td>\n",
       "      <td>-0.0060313176</td>\n",
       "      <td>0.0019761204</td>\n",
       "      <td>H</td>\n",
       "      <td>1.0117308430</td>\n",
       "      <td>1.463751162</td>\n",
       "      <td>0.0002765748</td>\n",
       "      <td>1</td>\n",
       "      <td>0</td>\n",
       "      <td>4</td>\n",
       "      <td>0</td>\n",
       "      <td>0</td>\n",
       "    </tr>\n",
       "    <tr>\n",
       "      <th>2</th>\n",
       "      <td>2</td>\n",
       "      <td>dsgdb9nsd_000001</td>\n",
       "      <td>1</td>\n",
       "      <td>3</td>\n",
       "      <td>2JHH</td>\n",
       "      <td>-11.254799999999999</td>\n",
       "      <td>H</td>\n",
       "      <td>0.002150416</td>\n",
       "      <td>-0.0060313176</td>\n",
       "      <td>0.0019761204</td>\n",
       "      <td>H</td>\n",
       "      <td>-0.5408150690</td>\n",
       "      <td>1.447526614</td>\n",
       "      <td>-0.8766437152</td>\n",
       "      <td>1</td>\n",
       "      <td>0</td>\n",
       "      <td>4</td>\n",
       "      <td>0</td>\n",
       "      <td>0</td>\n",
       "    </tr>\n",
       "    <tr>\n",
       "      <th>3</th>\n",
       "      <td>3</td>\n",
       "      <td>dsgdb9nsd_000001</td>\n",
       "      <td>1</td>\n",
       "      <td>4</td>\n",
       "      <td>2JHH</td>\n",
       "      <td>-11.254300000000001</td>\n",
       "      <td>H</td>\n",
       "      <td>0.002150416</td>\n",
       "      <td>-0.0060313176</td>\n",
       "      <td>0.0019761204</td>\n",
       "      <td>H</td>\n",
       "      <td>-0.5238136345</td>\n",
       "      <td>1.437932644</td>\n",
       "      <td>0.9063972942</td>\n",
       "      <td>1</td>\n",
       "      <td>0</td>\n",
       "      <td>4</td>\n",
       "      <td>0</td>\n",
       "      <td>0</td>\n",
       "    </tr>\n",
       "    <tr>\n",
       "      <th>4</th>\n",
       "      <td>4</td>\n",
       "      <td>dsgdb9nsd_000001</td>\n",
       "      <td>2</td>\n",
       "      <td>0</td>\n",
       "      <td>1JHC</td>\n",
       "      <td>84.807400000000001</td>\n",
       "      <td>H</td>\n",
       "      <td>1.011730843</td>\n",
       "      <td>1.4637511620</td>\n",
       "      <td>0.0002765748</td>\n",
       "      <td>C</td>\n",
       "      <td>-0.0126981359</td>\n",
       "      <td>1.085804158</td>\n",
       "      <td>0.0080009958</td>\n",
       "      <td>1</td>\n",
       "      <td>0</td>\n",
       "      <td>4</td>\n",
       "      <td>0</td>\n",
       "      <td>0</td>\n",
       "    </tr>\n",
       "  </tbody>\n",
       "</table>\n",
       "</div>"
      ],
      "text/plain": [
       "   id     molecule_name  atom_index_0  atom_index_1  type  \\\n",
       "0   0  dsgdb9nsd_000001             1             0  1JHC   \n",
       "1   1  dsgdb9nsd_000001             1             2  2JHH   \n",
       "2   2  dsgdb9nsd_000001             1             3  2JHH   \n",
       "3   3  dsgdb9nsd_000001             1             4  2JHH   \n",
       "4   4  dsgdb9nsd_000001             2             0  1JHC   \n",
       "\n",
       "   scalar_coupling_constant atom_0          x_0           y_0           z_0  \\\n",
       "0        84.807599999999994      H  0.002150416 -0.0060313176  0.0019761204   \n",
       "1       -11.257000000000000      H  0.002150416 -0.0060313176  0.0019761204   \n",
       "2       -11.254799999999999      H  0.002150416 -0.0060313176  0.0019761204   \n",
       "3       -11.254300000000001      H  0.002150416 -0.0060313176  0.0019761204   \n",
       "4        84.807400000000001      H  1.011730843  1.4637511620  0.0002765748   \n",
       "\n",
       "  atom_1           x_1          y_1           z_1  C  F  H  N  O  \n",
       "0      C -0.0126981359  1.085804158  0.0080009958  1  0  4  0  0  \n",
       "1      H  1.0117308430  1.463751162  0.0002765748  1  0  4  0  0  \n",
       "2      H -0.5408150690  1.447526614 -0.8766437152  1  0  4  0  0  \n",
       "3      H -0.5238136345  1.437932644  0.9063972942  1  0  4  0  0  \n",
       "4      C -0.0126981359  1.085804158  0.0080009958  1  0  4  0  0  "
      ]
     },
     "execution_count": 12,
     "metadata": {},
     "output_type": "execute_result"
    }
   ],
   "source": [
    "train.head()"
   ]
  },
  {
   "cell_type": "markdown",
   "metadata": {},
   "source": [
    "**Creating mol reference with OpenBabel**"
   ]
  },
  {
   "cell_type": "code",
   "execution_count": 33,
   "metadata": {},
   "outputs": [],
   "source": [
    "#%%time\n",
    "import openbabel\n",
    "obConversion = openbabel.OBConversion()\n",
    "obConversion.SetInFormat(\"xyz\")\n",
    "\n",
    "structdir='../../champs-scalar-coupling/structures/'\n",
    "mols = []\n",
    "mols_files = os.listdir(structdir)\n",
    "mols_index = dict(map(reversed,enumerate(mols_files)))\n",
    "for f in mols_index.keys():\n",
    "    mol = openbabel.OBMol()\n",
    "    obConversion.ReadFile(mol, structdir+f) \n",
    "    mols.append(mol)\n",
    "\n"
   ]
  },
  {
   "cell_type": "code",
   "execution_count": 35,
   "metadata": {},
   "outputs": [
    {
     "name": "stdout",
     "output_type": "stream",
     "text": [
      "H2O\n",
      "HO 1 : HO 2\n",
      "middle 0 O3\n"
     ]
    },
    {
     "data": {
      "text/plain": [
       "103.71576124592411"
      ]
     },
     "execution_count": 35,
     "metadata": {},
     "output_type": "execute_result"
    }
   ],
   "source": [
    "def Atoms(molname,AtomId1,AtomId2):\n",
    "    mol=mols[mols_index[molname+'.xyz']]\n",
    "    return mol, mol.GetAtomById(AtomId1), mol.GetAtomById(AtomId2)\n",
    "\n",
    "def SecondAtom(bond,FirstAtom):\n",
    "    if FirstAtom.GetId()==bond.GetBeginAtom().GetId(): return bond.GetEndAtom()\n",
    "    else: return bond.GetBeginAtom()\n",
    "\n",
    "def Angle2J(molname,AtomId1,AtomId2,debug=False):\n",
    "    mol,firstAtom,lastAtom=Atoms(molname,AtomId1,AtomId2)\n",
    "    if debug: print (mol.GetFormula())\n",
    "    if debug: print(firstAtom.GetType(),firstAtom.GetId(),':',lastAtom.GetType(),lastAtom.GetId())\n",
    "    for b in openbabel.OBAtomBondIter(firstAtom): # all bonds for first atom\n",
    "      secondAtom=SecondAtom(b,firstAtom)\n",
    "      lastBond=secondAtom.GetBond(lastAtom)\n",
    "      if lastBond: # found!\n",
    "        if debug: print('middle',secondAtom.GetId(),secondAtom.GetType())\n",
    "        return firstAtom.GetAngle(secondAtom,lastAtom)\n",
    "\n",
    "Angle2J('dsgdb9nsd_000003',1,2,debug=True) #water"
   ]
  },
  {
   "cell_type": "code",
   "execution_count": 36,
   "metadata": {},
   "outputs": [
    {
     "name": "stdout",
     "output_type": "stream",
     "text": [
      "dsgdb9nsd_000007 C2H6\n",
      "H 2 : H 5\n",
      "C3 0 <-> C3 1\n"
     ]
    },
    {
     "data": {
      "text/plain": [
       "60.00280550635594"
      ]
     },
     "execution_count": 36,
     "metadata": {},
     "output_type": "execute_result"
    }
   ],
   "source": [
    "def Torsion3J(molname,AtomId1,AtomId2,debug=False):\n",
    "    mol,firstAtom,lastAtom=Atoms(molname,AtomId1,AtomId2)\n",
    "    if debug: print (molname, mol.GetFormula())\n",
    "    if debug: print(firstAtom.GetType(),firstAtom.GetId(),':',lastAtom.GetType(),lastAtom.GetId())\n",
    "    for b in openbabel.OBAtomBondIter(firstAtom): # all bonds for first atom\n",
    "      secondAtom=SecondAtom(b,firstAtom)\n",
    "      for b2 in openbabel.OBAtomBondIter(secondAtom): # all bonds for second atom \n",
    "        thirdAtom=SecondAtom(b2,secondAtom)\n",
    "        lastBond=thirdAtom.GetBond(lastAtom)\n",
    "        if lastBond: # found!\n",
    "          if debug: print(secondAtom.GetType(),secondAtom.GetId(),'<->',thirdAtom.GetType(),thirdAtom.GetId())\n",
    "          return mol.GetTorsion(firstAtom,secondAtom,thirdAtom,lastAtom)\n",
    "          \n",
    "Torsion3J('dsgdb9nsd_000007',2,5,debug=True) #methanol"
   ]
  },
  {
   "cell_type": "code",
   "execution_count": 38,
   "metadata": {},
   "outputs": [],
   "source": [
    "train['bonds']=train['type'].str[0].astype(int)\n",
    "test['bonds']=test['type'].str[0].astype(int)\n",
    "\n",
    "train_p_0 = train[['x_0', 'y_0', 'z_0']].values\n",
    "train_p_1 = train[['x_1', 'y_1', 'z_1']].values\n",
    "test_p_0 = test[['x_0', 'y_0', 'z_0']].values\n",
    "test_p_1 = test[['x_1', 'y_1', 'z_1']].values\n",
    "\n",
    "train['dist'] = np.linalg.norm(train_p_0 - train_p_1, axis=1)\n",
    "test['dist'] = np.linalg.norm(test_p_0 - test_p_1, axis=1)\n",
    "train['abs_dist']=np.linalg.norm(train_p_0 - train_p_1, axis=1, ord=1)\n",
    "test['abs_dist']=np.linalg.norm(test_p_0 - test_p_1, axis=1, ord=1)"
   ]
  },
  {
   "cell_type": "code",
   "execution_count": 41,
   "metadata": {},
   "outputs": [],
   "source": [
    "def dist12(name='xy',a='x',b='y'):\n",
    "    train_p_0=train[[a+'_0',b+'_0']].values\n",
    "    train_p_1=train[[a+'_1',b+'_1']].values\n",
    "    test_p_0=test[[a+'_0',b+'_0']].values\n",
    "    test_p_1=test[[a+'_1',b+'_1']].values\n",
    "    \n",
    "    train[name] = np.linalg.norm(train_p_0 - train_p_1, axis=1)\n",
    "    test[name] = np.linalg.norm(test_p_0 - test_p_1, axis=1)\n",
    "    train['abs_'+name]= np.linalg.norm(train_p_0-train_p_1,axis=1,ord=1)\n",
    "    test['abs_'+name]= np.linalg.norm(test_p_0-test_p_1,axis=1,ord=1)"
   ]
  },
  {
   "cell_type": "code",
   "execution_count": 42,
   "metadata": {},
   "outputs": [],
   "source": [
    "dist12('dist_xy','x','y')\n",
    "dist12('dist_xz','x','z')\n",
    "dist12('dist_yz','y','z')"
   ]
  },
  {
   "cell_type": "code",
   "execution_count": 43,
   "metadata": {},
   "outputs": [
    {
     "data": {
      "text/html": [
       "<div>\n",
       "<style scoped>\n",
       "    .dataframe tbody tr th:only-of-type {\n",
       "        vertical-align: middle;\n",
       "    }\n",
       "\n",
       "    .dataframe tbody tr th {\n",
       "        vertical-align: top;\n",
       "    }\n",
       "\n",
       "    .dataframe thead th {\n",
       "        text-align: right;\n",
       "    }\n",
       "</style>\n",
       "<table border=\"1\" class=\"dataframe\">\n",
       "  <thead>\n",
       "    <tr style=\"text-align: right;\">\n",
       "      <th></th>\n",
       "      <th>id</th>\n",
       "      <th>molecule_name</th>\n",
       "      <th>atom_index_0</th>\n",
       "      <th>atom_index_1</th>\n",
       "      <th>type</th>\n",
       "      <th>scalar_coupling_constant</th>\n",
       "      <th>atom_0</th>\n",
       "      <th>x_0</th>\n",
       "      <th>y_0</th>\n",
       "      <th>z_0</th>\n",
       "      <th>...</th>\n",
       "      <th>O</th>\n",
       "      <th>bonds</th>\n",
       "      <th>dist</th>\n",
       "      <th>abs_dist</th>\n",
       "      <th>dist_xy</th>\n",
       "      <th>abs_dist_xy</th>\n",
       "      <th>dist_xz</th>\n",
       "      <th>abs_dist_xz</th>\n",
       "      <th>dist_yz</th>\n",
       "      <th>abs_dist_yz</th>\n",
       "    </tr>\n",
       "  </thead>\n",
       "  <tbody>\n",
       "    <tr>\n",
       "      <th>0</th>\n",
       "      <td>0</td>\n",
       "      <td>dsgdb9nsd_000001</td>\n",
       "      <td>1</td>\n",
       "      <td>0</td>\n",
       "      <td>1JHC</td>\n",
       "      <td>84.807599999999994</td>\n",
       "      <td>H</td>\n",
       "      <td>0.002150416</td>\n",
       "      <td>-0.0060313176</td>\n",
       "      <td>0.0019761204</td>\n",
       "      <td>...</td>\n",
       "      <td>0</td>\n",
       "      <td>1</td>\n",
       "      <td>1.091953059611900</td>\n",
       "      <td>1.1127089029</td>\n",
       "      <td>1.091936438293093</td>\n",
       "      <td>1.1066840275</td>\n",
       "      <td>0.016024313311731</td>\n",
       "      <td>0.0208734273</td>\n",
       "      <td>1.091852098455768</td>\n",
       "      <td>1.0978603510</td>\n",
       "    </tr>\n",
       "    <tr>\n",
       "      <th>1</th>\n",
       "      <td>1</td>\n",
       "      <td>dsgdb9nsd_000001</td>\n",
       "      <td>1</td>\n",
       "      <td>2</td>\n",
       "      <td>2JHH</td>\n",
       "      <td>-11.257000000000000</td>\n",
       "      <td>H</td>\n",
       "      <td>0.002150416</td>\n",
       "      <td>-0.0060313176</td>\n",
       "      <td>0.0019761204</td>\n",
       "      <td>...</td>\n",
       "      <td>0</td>\n",
       "      <td>2</td>\n",
       "      <td>1.783119756038801</td>\n",
       "      <td>2.4810624522</td>\n",
       "      <td>1.783118946094350</td>\n",
       "      <td>2.4793629066</td>\n",
       "      <td>1.009581857521592</td>\n",
       "      <td>1.0112799726</td>\n",
       "      <td>1.469783462212843</td>\n",
       "      <td>1.4714820252</td>\n",
       "    </tr>\n",
       "    <tr>\n",
       "      <th>2</th>\n",
       "      <td>2</td>\n",
       "      <td>dsgdb9nsd_000001</td>\n",
       "      <td>1</td>\n",
       "      <td>3</td>\n",
       "      <td>2JHH</td>\n",
       "      <td>-11.254799999999999</td>\n",
       "      <td>H</td>\n",
       "      <td>0.002150416</td>\n",
       "      <td>-0.0060313176</td>\n",
       "      <td>0.0019761204</td>\n",
       "      <td>...</td>\n",
       "      <td>0</td>\n",
       "      <td>2</td>\n",
       "      <td>1.783147496403011</td>\n",
       "      <td>2.8751432522</td>\n",
       "      <td>1.551657880596930</td>\n",
       "      <td>1.9965234166</td>\n",
       "      <td>1.032852522585415</td>\n",
       "      <td>1.4215853206</td>\n",
       "      <td>1.698470922926572</td>\n",
       "      <td>2.3321777672</td>\n",
       "    </tr>\n",
       "    <tr>\n",
       "      <th>3</th>\n",
       "      <td>3</td>\n",
       "      <td>dsgdb9nsd_000001</td>\n",
       "      <td>1</td>\n",
       "      <td>4</td>\n",
       "      <td>2JHH</td>\n",
       "      <td>-11.254300000000001</td>\n",
       "      <td>H</td>\n",
       "      <td>0.002150416</td>\n",
       "      <td>-0.0060313176</td>\n",
       "      <td>0.0019761204</td>\n",
       "      <td>...</td>\n",
       "      <td>0</td>\n",
       "      <td>2</td>\n",
       "      <td>1.783156685329616</td>\n",
       "      <td>2.8743491859</td>\n",
       "      <td>1.536772626258658</td>\n",
       "      <td>1.9699280121</td>\n",
       "      <td>1.046238902945277</td>\n",
       "      <td>1.4303852243</td>\n",
       "      <td>1.703822051159491</td>\n",
       "      <td>2.3483851354</td>\n",
       "    </tr>\n",
       "    <tr>\n",
       "      <th>4</th>\n",
       "      <td>4</td>\n",
       "      <td>dsgdb9nsd_000001</td>\n",
       "      <td>2</td>\n",
       "      <td>0</td>\n",
       "      <td>1JHC</td>\n",
       "      <td>84.807400000000001</td>\n",
       "      <td>H</td>\n",
       "      <td>1.011730843</td>\n",
       "      <td>1.4637511620</td>\n",
       "      <td>0.0002765748</td>\n",
       "      <td>...</td>\n",
       "      <td>0</td>\n",
       "      <td>1</td>\n",
       "      <td>1.091951618581363</td>\n",
       "      <td>1.4101004039</td>\n",
       "      <td>1.091924297120763</td>\n",
       "      <td>1.4023759829</td>\n",
       "      <td>1.024458100407177</td>\n",
       "      <td>1.0321533999</td>\n",
       "      <td>0.378025931005217</td>\n",
       "      <td>0.3856714250</td>\n",
       "    </tr>\n",
       "  </tbody>\n",
       "</table>\n",
       "<p>5 rows × 28 columns</p>\n",
       "</div>"
      ],
      "text/plain": [
       "   id     molecule_name  atom_index_0  atom_index_1  type  \\\n",
       "0   0  dsgdb9nsd_000001             1             0  1JHC   \n",
       "1   1  dsgdb9nsd_000001             1             2  2JHH   \n",
       "2   2  dsgdb9nsd_000001             1             3  2JHH   \n",
       "3   3  dsgdb9nsd_000001             1             4  2JHH   \n",
       "4   4  dsgdb9nsd_000001             2             0  1JHC   \n",
       "\n",
       "   scalar_coupling_constant atom_0          x_0           y_0           z_0  \\\n",
       "0        84.807599999999994      H  0.002150416 -0.0060313176  0.0019761204   \n",
       "1       -11.257000000000000      H  0.002150416 -0.0060313176  0.0019761204   \n",
       "2       -11.254799999999999      H  0.002150416 -0.0060313176  0.0019761204   \n",
       "3       -11.254300000000001      H  0.002150416 -0.0060313176  0.0019761204   \n",
       "4        84.807400000000001      H  1.011730843  1.4637511620  0.0002765748   \n",
       "\n",
       "   ...  O  bonds               dist      abs_dist            dist_xy  \\\n",
       "0  ...  0      1  1.091953059611900  1.1127089029  1.091936438293093   \n",
       "1  ...  0      2  1.783119756038801  2.4810624522  1.783118946094350   \n",
       "2  ...  0      2  1.783147496403011  2.8751432522  1.551657880596930   \n",
       "3  ...  0      2  1.783156685329616  2.8743491859  1.536772626258658   \n",
       "4  ...  0      1  1.091951618581363  1.4101004039  1.091924297120763   \n",
       "\n",
       "    abs_dist_xy            dist_xz   abs_dist_xz            dist_yz  \\\n",
       "0  1.1066840275  0.016024313311731  0.0208734273  1.091852098455768   \n",
       "1  2.4793629066  1.009581857521592  1.0112799726  1.469783462212843   \n",
       "2  1.9965234166  1.032852522585415  1.4215853206  1.698470922926572   \n",
       "3  1.9699280121  1.046238902945277  1.4303852243  1.703822051159491   \n",
       "4  1.4023759829  1.024458100407177  1.0321533999  0.378025931005217   \n",
       "\n",
       "    abs_dist_yz  \n",
       "0  1.0978603510  \n",
       "1  1.4714820252  \n",
       "2  2.3321777672  \n",
       "3  2.3483851354  \n",
       "4  0.3856714250  \n",
       "\n",
       "[5 rows x 28 columns]"
      ]
     },
     "execution_count": 43,
     "metadata": {},
     "output_type": "execute_result"
    }
   ],
   "source": [
    "train.head(5)"
   ]
  },
  {
   "cell_type": "markdown",
   "metadata": {},
   "source": [
    "So, everyone uses this distance feature, let's have a look at it!"
   ]
  },
  {
   "cell_type": "code",
   "execution_count": 44,
   "metadata": {},
   "outputs": [
    {
     "data": {
      "image/png": "[encoded data removed]",
      "text/plain": [
       "<Figure size 1296x576 with 2 Axes>"
      ]
     },
     "metadata": {
      "needs_background": "light"
     },
     "output_type": "display_data"
    }
   ],
   "source": [
    "fig, ax = plt.subplots(figsize = (18, 8))\n",
    "plt.subplot(1, 2, 1);\n",
    "plt.hist(train['dist_xz'], bins=20);\n",
    "plt.title('Basic dist histogram');\n",
    "plt.subplot(1, 2, 2);\n",
    "sns.violinplot(x='type', y='dist_xz', data=train);\n",
    "plt.title('Violinplot of dist_xz by type');"
   ]
  },
  {
   "cell_type": "markdown",
   "metadata": {},
   "source": [
    "It seems that the values are quite different for different types!"
   ]
  },
  {
   "cell_type": "code",
   "execution_count": 45,
   "metadata": {},
   "outputs": [],
   "source": [
    "train['dist_to_type_mean'] = train['dist'] / train.groupby('type')['dist'].transform('mean')\n",
    "test['dist_to_type_mean'] = test['dist'] / test.groupby('type')['dist'].transform('mean')\n",
    "\n",
    "train['dist_to_type_std'] = train['dist'] / train.groupby('type')['dist'].transform('std')\n",
    "test['dist_to_type_std'] = test['dist'] / test.groupby('type')['dist'].transform('std')\n",
    "\n",
    "train['dist_to_type_mean_xy'] = train['dist_xy'] / train.groupby('type')['dist_xy'].transform('mean')\n",
    "test['dist_to_type_mean_xy'] = test['dist_xy'] / test.groupby('type')['dist_xy'].transform('mean')\n",
    "\n",
    "train['dist_to_type_mean_xz'] = train['dist_xz'] / train.groupby('type')['dist_xz'].transform('mean')\n",
    "test['dist_to_type_mean_xz'] = test['dist_xz'] / test.groupby('type')['dist_xz'].transform('mean')\n",
    "\n",
    "train['dist_to_type_mean_yz'] = train['dist_yz'] / train.groupby('type')['dist_yz'].transform('mean')\n",
    "test['dist_to_type_mean_yz'] = test['dist_yz'] / test.groupby('type')['dist_yz'].transform('mean')"
   ]
  },
  {
   "cell_type": "code",
   "execution_count": 46,
   "metadata": {},
   "outputs": [
    {
     "data": {
      "text/html": [
       "<div>\n",
       "<style scoped>\n",
       "    .dataframe tbody tr th:only-of-type {\n",
       "        vertical-align: middle;\n",
       "    }\n",
       "\n",
       "    .dataframe tbody tr th {\n",
       "        vertical-align: top;\n",
       "    }\n",
       "\n",
       "    .dataframe thead th {\n",
       "        text-align: right;\n",
       "    }\n",
       "</style>\n",
       "<table border=\"1\" class=\"dataframe\">\n",
       "  <thead>\n",
       "    <tr style=\"text-align: right;\">\n",
       "      <th></th>\n",
       "      <th>id</th>\n",
       "      <th>molecule_name</th>\n",
       "      <th>atom_index_0</th>\n",
       "      <th>atom_index_1</th>\n",
       "      <th>type</th>\n",
       "      <th>scalar_coupling_constant</th>\n",
       "      <th>atom_0</th>\n",
       "      <th>x_0</th>\n",
       "      <th>y_0</th>\n",
       "      <th>z_0</th>\n",
       "      <th>...</th>\n",
       "      <th>abs_dist_xy</th>\n",
       "      <th>dist_xz</th>\n",
       "      <th>abs_dist_xz</th>\n",
       "      <th>dist_yz</th>\n",
       "      <th>abs_dist_yz</th>\n",
       "      <th>dist_to_type_mean</th>\n",
       "      <th>dist_to_type_std</th>\n",
       "      <th>dist_to_type_mean_xy</th>\n",
       "      <th>dist_to_type_mean_xz</th>\n",
       "      <th>dist_to_type_mean_yz</th>\n",
       "    </tr>\n",
       "  </thead>\n",
       "  <tbody>\n",
       "    <tr>\n",
       "      <th>0</th>\n",
       "      <td>0</td>\n",
       "      <td>dsgdb9nsd_000001</td>\n",
       "      <td>1</td>\n",
       "      <td>0</td>\n",
       "      <td>1JHC</td>\n",
       "      <td>84.807599999999994</td>\n",
       "      <td>H</td>\n",
       "      <td>0.002150416</td>\n",
       "      <td>-0.0060313176</td>\n",
       "      <td>0.0019761204</td>\n",
       "      <td>...</td>\n",
       "      <td>1.1066840275</td>\n",
       "      <td>0.016024313311731</td>\n",
       "      <td>0.0208734273</td>\n",
       "      <td>1.091852098455768</td>\n",
       "      <td>1.0978603510</td>\n",
       "      <td>0.999133993514757</td>\n",
       "      <td>160.140258468183134</td>\n",
       "      <td>1.308822885399792</td>\n",
       "      <td>0.017808845798591</td>\n",
       "      <td>1.298372056998296</td>\n",
       "    </tr>\n",
       "    <tr>\n",
       "      <th>1</th>\n",
       "      <td>1</td>\n",
       "      <td>dsgdb9nsd_000001</td>\n",
       "      <td>1</td>\n",
       "      <td>2</td>\n",
       "      <td>2JHH</td>\n",
       "      <td>-11.257000000000000</td>\n",
       "      <td>H</td>\n",
       "      <td>0.002150416</td>\n",
       "      <td>-0.0060313176</td>\n",
       "      <td>0.0019761204</td>\n",
       "      <td>...</td>\n",
       "      <td>2.4793629066</td>\n",
       "      <td>1.009581857521592</td>\n",
       "      <td>1.0112799726</td>\n",
       "      <td>1.469783462212843</td>\n",
       "      <td>1.4714820252</td>\n",
       "      <td>1.004633785679569</td>\n",
       "      <td>76.528200864254643</td>\n",
       "      <td>1.420898540772882</td>\n",
       "      <td>0.653242996633718</td>\n",
       "      <td>1.119381740886271</td>\n",
       "    </tr>\n",
       "    <tr>\n",
       "      <th>2</th>\n",
       "      <td>2</td>\n",
       "      <td>dsgdb9nsd_000001</td>\n",
       "      <td>1</td>\n",
       "      <td>3</td>\n",
       "      <td>2JHH</td>\n",
       "      <td>-11.254799999999999</td>\n",
       "      <td>H</td>\n",
       "      <td>0.002150416</td>\n",
       "      <td>-0.0060313176</td>\n",
       "      <td>0.0019761204</td>\n",
       "      <td>...</td>\n",
       "      <td>1.9965234166</td>\n",
       "      <td>1.032852522585415</td>\n",
       "      <td>1.4215853206</td>\n",
       "      <td>1.698470922926572</td>\n",
       "      <td>2.3321777672</td>\n",
       "      <td>1.004649414975929</td>\n",
       "      <td>76.529391429362306</td>\n",
       "      <td>1.236456167519326</td>\n",
       "      <td>0.668300120399065</td>\n",
       "      <td>1.293549279488992</td>\n",
       "    </tr>\n",
       "    <tr>\n",
       "      <th>3</th>\n",
       "      <td>3</td>\n",
       "      <td>dsgdb9nsd_000001</td>\n",
       "      <td>1</td>\n",
       "      <td>4</td>\n",
       "      <td>2JHH</td>\n",
       "      <td>-11.254300000000001</td>\n",
       "      <td>H</td>\n",
       "      <td>0.002150416</td>\n",
       "      <td>-0.0060313176</td>\n",
       "      <td>0.0019761204</td>\n",
       "      <td>...</td>\n",
       "      <td>1.9699280121</td>\n",
       "      <td>1.046238902945277</td>\n",
       "      <td>1.4303852243</td>\n",
       "      <td>1.703822051159491</td>\n",
       "      <td>2.3483851354</td>\n",
       "      <td>1.004654592141451</td>\n",
       "      <td>76.529785801091180</td>\n",
       "      <td>1.224594683901192</td>\n",
       "      <td>0.676961685734461</td>\n",
       "      <td>1.297624679295201</td>\n",
       "    </tr>\n",
       "    <tr>\n",
       "      <th>4</th>\n",
       "      <td>4</td>\n",
       "      <td>dsgdb9nsd_000001</td>\n",
       "      <td>2</td>\n",
       "      <td>0</td>\n",
       "      <td>1JHC</td>\n",
       "      <td>84.807400000000001</td>\n",
       "      <td>H</td>\n",
       "      <td>1.011730843</td>\n",
       "      <td>1.4637511620</td>\n",
       "      <td>0.0002765748</td>\n",
       "      <td>...</td>\n",
       "      <td>1.4023759829</td>\n",
       "      <td>1.024458100407177</td>\n",
       "      <td>1.0321533999</td>\n",
       "      <td>0.378025931005217</td>\n",
       "      <td>0.3856714250</td>\n",
       "      <td>0.999132674975848</td>\n",
       "      <td>160.140047134004675</td>\n",
       "      <td>1.308808332680748</td>\n",
       "      <td>1.138545907231645</td>\n",
       "      <td>0.449528197392408</td>\n",
       "    </tr>\n",
       "  </tbody>\n",
       "</table>\n",
       "<p>5 rows × 33 columns</p>\n",
       "</div>"
      ],
      "text/plain": [
       "   id     molecule_name  atom_index_0  atom_index_1  type  \\\n",
       "0   0  dsgdb9nsd_000001             1             0  1JHC   \n",
       "1   1  dsgdb9nsd_000001             1             2  2JHH   \n",
       "2   2  dsgdb9nsd_000001             1             3  2JHH   \n",
       "3   3  dsgdb9nsd_000001             1             4  2JHH   \n",
       "4   4  dsgdb9nsd_000001             2             0  1JHC   \n",
       "\n",
       "   scalar_coupling_constant atom_0          x_0           y_0           z_0  \\\n",
       "0        84.807599999999994      H  0.002150416 -0.0060313176  0.0019761204   \n",
       "1       -11.257000000000000      H  0.002150416 -0.0060313176  0.0019761204   \n",
       "2       -11.254799999999999      H  0.002150416 -0.0060313176  0.0019761204   \n",
       "3       -11.254300000000001      H  0.002150416 -0.0060313176  0.0019761204   \n",
       "4        84.807400000000001      H  1.011730843  1.4637511620  0.0002765748   \n",
       "\n",
       "   ...   abs_dist_xy            dist_xz   abs_dist_xz            dist_yz  \\\n",
       "0  ...  1.1066840275  0.016024313311731  0.0208734273  1.091852098455768   \n",
       "1  ...  2.4793629066  1.009581857521592  1.0112799726  1.469783462212843   \n",
       "2  ...  1.9965234166  1.032852522585415  1.4215853206  1.698470922926572   \n",
       "3  ...  1.9699280121  1.046238902945277  1.4303852243  1.703822051159491   \n",
       "4  ...  1.4023759829  1.024458100407177  1.0321533999  0.378025931005217   \n",
       "\n",
       "    abs_dist_yz  dist_to_type_mean     dist_to_type_std  dist_to_type_mean_xy  \\\n",
       "0  1.0978603510  0.999133993514757  160.140258468183134     1.308822885399792   \n",
       "1  1.4714820252  1.004633785679569   76.528200864254643     1.420898540772882   \n",
       "2  2.3321777672  1.004649414975929   76.529391429362306     1.236456167519326   \n",
       "3  2.3483851354  1.004654592141451   76.529785801091180     1.224594683901192   \n",
       "4  0.3856714250  0.999132674975848  160.140047134004675     1.308808332680748   \n",
       "\n",
       "   dist_to_type_mean_xz  dist_to_type_mean_yz  \n",
       "0     0.017808845798591     1.298372056998296  \n",
       "1     0.653242996633718     1.119381740886271  \n",
       "2     0.668300120399065     1.293549279488992  \n",
       "3     0.676961685734461     1.297624679295201  \n",
       "4     1.138545907231645     0.449528197392408  \n",
       "\n",
       "[5 rows x 33 columns]"
      ]
     },
     "execution_count": 46,
     "metadata": {},
     "output_type": "execute_result"
    }
   ],
   "source": [
    "train.head()"
   ]
  },
  {
   "cell_type": "code",
   "execution_count": null,
   "metadata": {},
   "outputs": [],
   "source": [
    "#%%time\n",
    "#### get atom or mol in train?\n",
    "######train['sp']=train.apply(lambda row: Atoms(row.molecule_name, row.atom_index_0, row.atom_index_1)[2],axis=1) # second atom is C or N for bond 1\n"
   ]
  },
  {
   "cell_type": "code",
   "execution_count": 48,
   "metadata": {},
   "outputs": [],
   "source": [
    "def create_features(df):\n",
    "    df['molecule_couples'] = df.groupby('molecule_name')['id'].transform('count')\n",
    "    df['molecule_dist_mean'] = df.groupby('molecule_name')['dist'].transform('mean')\n",
    "    df['molecule_dist_min'] = df.groupby('molecule_name')['dist'].transform('min')\n",
    "    df['molecule_dist_max'] = df.groupby('molecule_name')['dist'].transform('max')\n",
    "    df['atom_0_couples_count'] = df.groupby(['molecule_name', 'atom_index_0'])['id'].transform('count')\n",
    "    df['atom_1_couples_count'] = df.groupby(['molecule_name', 'atom_index_1'])['id'].transform('count')\n",
    "    '''\n",
    "    df[f'molecule_atom_index_0_x_1_std'] = df.groupby(['molecule_name', 'atom_index_0'])['x_1'].transform('std')\n",
    "    df[f'molecule_atom_index_0_y_1_mean'] = df.groupby(['molecule_name', 'atom_index_0'])['y_1'].transform('mean')\n",
    "    df[f'molecule_atom_index_0_y_1_mean_diff'] = df[f'molecule_atom_index_0_y_1_mean'] - df['y_1']\n",
    "    df[f'molecule_atom_index_0_y_1_mean_div'] = df[f'molecule_atom_index_0_y_1_mean'] / df['y_1']\n",
    "    df[f'molecule_atom_index_0_y_1_max'] = df.groupby(['molecule_name', 'atom_index_0'])['y_1'].transform('max')\n",
    "    df[f'molecule_atom_index_0_y_1_max_diff'] = df[f'molecule_atom_index_0_y_1_max'] - df['y_1']\n",
    "    df[f'molecule_atom_index_0_y_1_std'] = df.groupby(['molecule_name', 'atom_index_0'])['y_1'].transform('std')\n",
    "    df[f'molecule_atom_index_0_z_1_std'] = df.groupby(['molecule_name', 'atom_index_0'])['z_1'].transform('std')\n",
    "    df[f'molecule_atom_index_0_dist_mean'] = df.groupby(['molecule_name', 'atom_index_0'])['dist'].transform('mean')\n",
    "    df[f'molecule_atom_index_0_dist_mean_diff'] = df[f'molecule_atom_index_0_dist_mean'] - df['dist']\n",
    "    df[f'molecule_atom_index_0_dist_mean_div'] = df[f'molecule_atom_index_0_dist_mean'] / df['dist']\n",
    "    df[f'molecule_atom_index_0_dist_max'] = df.groupby(['molecule_name', 'atom_index_0'])['dist'].transform('max')\n",
    "    df[f'molecule_atom_index_0_dist_max_diff'] = df[f'molecule_atom_index_0_dist_max'] - df['dist']\n",
    "    df[f'molecule_atom_index_0_dist_max_div'] = df[f'molecule_atom_index_0_dist_max'] / df['dist']\n",
    "    df[f'molecule_atom_index_0_dist_min'] = df.groupby(['molecule_name', 'atom_index_0'])['dist'].transform('min')\n",
    "    df[f'molecule_atom_index_0_dist_min_diff'] = df[f'molecule_atom_index_0_dist_min'] - df['dist']\n",
    "    df[f'molecule_atom_index_0_dist_min_div'] = df[f'molecule_atom_index_0_dist_min'] / df['dist']\n",
    "    df[f'molecule_atom_index_0_dist_std'] = df.groupby(['molecule_name', 'atom_index_0'])['dist'].transform('std')\n",
    "    df[f'molecule_atom_index_0_dist_std_diff'] = df[f'molecule_atom_index_0_dist_std'] - df['dist']\n",
    "    df[f'molecule_atom_index_0_dist_std_div'] = df[f'molecule_atom_index_0_dist_std'] / df['dist']\n",
    "    df[f'molecule_atom_index_1_dist_mean'] = df.groupby(['molecule_name', 'atom_index_1'])['dist'].transform('mean')\n",
    "    df[f'molecule_atom_index_1_dist_mean_diff'] = df[f'molecule_atom_index_1_dist_mean'] - df['dist']\n",
    "    df[f'molecule_atom_index_1_dist_mean_div'] = df[f'molecule_atom_index_1_dist_mean'] / df['dist']\n",
    "    df[f'molecule_atom_index_1_dist_max'] = df.groupby(['molecule_name', 'atom_index_1'])['dist'].transform('max')\n",
    "    df[f'molecule_atom_index_1_dist_max_diff'] = df[f'molecule_atom_index_1_dist_max'] - df['dist']\n",
    "    df[f'molecule_atom_index_1_dist_max_div'] = df[f'molecule_atom_index_1_dist_max'] / df['dist']\n",
    "    df[f'molecule_atom_index_1_dist_min'] = df.groupby(['molecule_name', 'atom_index_1'])['dist'].transform('min')\n",
    "    df[f'molecule_atom_index_1_dist_min_diff'] = df[f'molecule_atom_index_1_dist_min'] - df['dist']\n",
    "    df[f'molecule_atom_index_1_dist_min_div'] = df[f'molecule_atom_index_1_dist_min'] / df['dist']\n",
    "    df[f'molecule_atom_index_1_dist_std'] = df.groupby(['molecule_name', 'atom_index_1'])['dist'].transform('std')\n",
    "    df[f'molecule_atom_index_1_dist_std_diff'] = df[f'molecule_atom_index_1_dist_std'] - df['dist']\n",
    "    df[f'molecule_atom_index_1_dist_std_div'] = df[f'molecule_atom_index_1_dist_std'] / df['dist']\n",
    "    '''\n",
    "    df[f'molecule_atom_1_dist_mean'] = df.groupby(['molecule_name', 'atom_1'])['dist'].transform('mean')\n",
    "    df[f'molecule_atom_1_dist_min'] = df.groupby(['molecule_name', 'atom_1'])['dist'].transform('min')\n",
    "    df[f'molecule_atom_1_dist_min_diff'] = df[f'molecule_atom_1_dist_min'] - df['dist']\n",
    "    df[f'molecule_atom_1_dist_min_div'] = df[f'molecule_atom_1_dist_min'] / df['dist']\n",
    "    df[f'molecule_atom_1_dist_std'] = df.groupby(['molecule_name', 'atom_1'])['dist'].transform('std')\n",
    "    df[f'molecule_atom_1_dist_std_diff'] = df[f'molecule_atom_1_dist_std'] - df['dist']\n",
    "    df[f'molecule_bonds_dist_std'] = df.groupby(['molecule_name', 'bonds'])['dist'].transform('std')\n",
    "    df[f'molecule_bonds_dist_std_diff'] = df[f'molecule_bonds_dist_std'] - df['dist']\n",
    "    df[f'molecule_type_dist_mean'] = df.groupby(['molecule_name', 'type'])['dist'].transform('mean')\n",
    "    df[f'molecule_type_dist_mean_diff'] = df[f'molecule_type_dist_mean'] - df['dist']\n",
    "    df[f'molecule_type_dist_mean_div'] = df[f'molecule_type_dist_mean'] / df['dist']\n",
    "    df[f'molecule_type_dist_max'] = df.groupby(['molecule_name', 'type'])['dist'].transform('max')\n",
    "    df[f'molecule_type_dist_min'] = df.groupby(['molecule_name', 'type'])['dist'].transform('min')\n",
    "    df[f'molecule_type_dist_std'] = df.groupby(['molecule_name', 'type'])['dist'].transform('std')\n",
    "    df[f'molecule_type_dist_std_diff'] = df[f'molecule_type_dist_std'] - df['dist']\n",
    "\n",
    "    return df\n"
   ]
  },
  {
   "cell_type": "code",
   "execution_count": 49,
   "metadata": {},
   "outputs": [
    {
     "name": "stdout",
     "output_type": "stream",
     "text": [
      "Mem. usage decreased to 586.39 Mb (70.0% reduction)\n",
      "Mem. usage decreased to 310.63 Mb (69.9% reduction)\n"
     ]
    }
   ],
   "source": [
    "#%%time\n",
    "train = create_features(train)\n",
    "test = create_features(test)\n",
    "\n",
    "train=reduce_mem_usage(train)\n",
    "test=reduce_mem_usage(test)"
   ]
  },
  {
   "cell_type": "code",
   "execution_count": null,
   "metadata": {},
   "outputs": [],
   "source": [
    "# memory usage\n",
    "import sys\n",
    "def sizeof_fmt(num, suffix='B'):\n",
    "    ''' By Fred Cirera, after https://stackoverflow.com/a/1094933/1870254'''\n",
    "    for unit in ['','Ki','Mi','Gi','Ti','Pi','Ei','Zi']:\n",
    "        if abs(num) < 1024.0:\n",
    "            return \"%3.1f%s%s\" % (num, unit, suffix)\n",
    "        num /= 1024.0\n",
    "    return \"%.1f%s%s\" % (num, 'Yi', suffix)\n",
    "\n",
    "for name, size in sorted(((name, sys.getsizeof(value)) for name,value in locals().items()),\n",
    "                         key= lambda x: -x[1])[:10]:\n",
    "    print(\"{:>30}: {:>8}\".format(name,sizeof_fmt(size)))"
   ]
  },
  {
   "cell_type": "markdown",
   "metadata": {},
   "source": []
  },
  {
   "cell_type": "markdown",
   "metadata": {},
   "source": [
    "## Basic model\n",
    "\n",
    "I'll use the function for metric calculation from this kernel: https://www.kaggle.com/abhishek/competition-metric"
   ]
  },
  {
   "cell_type": "code",
   "execution_count": null,
   "metadata": {},
   "outputs": [],
   "source": [
    "def metric(df, preds):\n",
    "    df[\"prediction\"] = preds\n",
    "    maes = []\n",
    "    for t in df.type.unique():\n",
    "        y_true = df[df.type==t].scalar_coupling_constant.values\n",
    "        y_pred = df[df.type==t].prediction.values\n",
    "        mae = np.log(metrics.mean_absolute_error(y_true, y_pred))\n",
    "        maes.append(mae)\n",
    "    return np.mean(maes)"
   ]
  },
  {
   "cell_type": "code",
   "execution_count": null,
   "metadata": {},
   "outputs": [],
   "source": [
    "def group_mean_log_mae(y_true, y_pred, groups, floor=1e-9):\n",
    "    maes = (y_true-y_pred).abs().groupby(groups).mean()\n",
    "    return np.log(maes.map(lambda x: max(x, floor))).mean()"
   ]
  },
  {
   "cell_type": "code",
   "execution_count": null,
   "metadata": {},
   "outputs": [],
   "source": [
    "for f in [ 'atom_0', 'atom_1']:\n",
    "    lbl = LabelEncoder()\n",
    "    lbl.fit(list(train[f].values) )\n",
    "    train[f] = lbl.transform(list(train[f].values))\n",
    "    test[f] = lbl.transform(list(test[f].values))"
   ]
  },
  {
   "cell_type": "code",
   "execution_count": null,
   "metadata": {},
   "outputs": [],
   "source": [
    "def train_model(X, X_test, y, params, folds, model_type='lgb', plot_feature_importance=False, model=None):\n",
    "\n",
    "    oof = np.zeros(len(X))\n",
    "    print(X.shape,X_test.shape)\n",
    "    prediction = np.zeros(len(X_test))\n",
    "    scores = []\n",
    "    feature_importance = pd.DataFrame()\n",
    "    for fold_n, (train_index, valid_index) in enumerate(folds.split(X)):\n",
    "        print('Fold', fold_n, 'started at', time.ctime())\n",
    "      \n",
    "        X_train, X_valid = X.iloc[train_index], X.iloc[valid_index]\n",
    "        y_train, y_valid = y.iloc[train_index], y.iloc[valid_index]\n",
    "        if model_type == 'lgb':\n",
    "            model = lgb.LGBMRegressor(**params, n_estimators = 2000, n_jobs = -1)\n",
    "            model.fit(X_train, y_train, \n",
    "                    eval_set=[(X_train, y_train), (X_valid, y_valid)], eval_metric='mae',\n",
    "                    verbose=500, early_stopping_rounds=200)\n",
    "            \n",
    "            y_pred_valid = model.predict(X_valid)\n",
    "            y_pred = model.predict(X_test, num_iteration=model.best_iteration_)\n",
    "            \n",
    "        if model_type == 'xgb':\n",
    "            train_data = xgb.DMatrix(data=X_train, label=y_train, feature_names=X_tr.columns)\n",
    "            valid_data = xgb.DMatrix(data=X_valid, label=y_valid, feature_names=X_tr.columns)\n",
    "\n",
    "            watchlist = [(train_data, 'train'), (valid_data, 'valid_data')]\n",
    "            model = xgb.train(dtrain=train_data, num_boost_round=20000, evals=watchlist, early_stopping_rounds=200, verbose_eval=500, params=params)\n",
    "            y_pred_valid = model.predict(xgb.DMatrix(X_valid, feature_names=X_tr.columns), ntree_limit=model.best_ntree_limit)\n",
    "            y_pred = model.predict(xgb.DMatrix(X_test, feature_names=X_tr.columns), ntree_limit=model.best_ntree_limit)\n",
    "            \n",
    "        if model_type == 'rcv':\n",
    "            model = RidgeCV(alphas=(0.01, 0.1, 1.0, 10.0, 100.0), scoring='neg_mean_absolute_error', cv=3)\n",
    "            model.fit(X_train, y_train)\n",
    "            print(model.alpha_)\n",
    "\n",
    "            y_pred_valid = model.predict(X_valid).reshape(-1,)\n",
    "            score = mean_absolute_error(y_valid, y_pred_valid)\n",
    "            print(f'Fold {fold_n}. MAE: {score:.4f}.')\n",
    "            print('')\n",
    "            \n",
    "            y_pred = model.predict(X_test).reshape(-1,)\n",
    "        \n",
    "        if model_type == 'sklearn':\n",
    "            model = model\n",
    "            model.fit(X_train, y_train)\n",
    "            \n",
    "            y_pred_valid = model.predict(X_valid).reshape(-1,)\n",
    "            score = mean_absolute_error(y_valid, y_pred_valid)\n",
    "            print(f'Fold {fold_n}. MAE: {score:.4f}.')\n",
    "            print('')\n",
    "            \n",
    "            y_pred = model.predict(X_test).reshape(-1,)\n",
    "        \n",
    "        if model_type == 'cat':\n",
    "            model = CatBoostRegressor(iterations=20000,  eval_metric='MAE', **params)\n",
    "            model.fit(X_train, y_train, eval_set=(X_valid, y_valid), cat_features=[], use_best_model=True, verbose=False)\n",
    "\n",
    "            y_pred_valid = model.predict(X_valid)\n",
    "            y_pred = model.predict(X_test)\n",
    "        \n",
    "        oof[valid_index] = y_pred_valid.reshape(-1,)\n",
    "        scores.append(mean_absolute_error(y_valid, y_pred_valid))\n",
    "\n",
    "        prediction += y_pred    \n",
    "        \n",
    "        if model_type == 'lgb':\n",
    "            # feature importance\n",
    "            fold_importance = pd.DataFrame()\n",
    "            fold_importance[\"feature\"] = X.columns\n",
    "            fold_importance[\"importance\"] = model.feature_importances_\n",
    "            fold_importance[\"fold\"] = fold_n + 1\n",
    "            feature_importance = pd.concat([feature_importance, fold_importance], axis=0)\n",
    "\n",
    "    prediction /= n_fold\n",
    "    \n",
    "    print('CV mean score: {0:.4f}, std: {1:.4f}.'.format(np.mean(scores), np.std(scores)))\n",
    "    \n",
    "    if model_type == 'lgb':\n",
    "        feature_importance[\"importance\"] /= n_fold\n",
    "        if plot_feature_importance:\n",
    "            cols = feature_importance[[\"feature\", \"importance\"]].groupby(\"feature\").mean().sort_values(\n",
    "                by=\"importance\", ascending=False)[:50].index\n",
    "\n",
    "            best_features = feature_importance.loc[feature_importance.feature.isin(cols)]\n",
    "\n",
    "            plt.figure(figsize=(16, 12));\n",
    "            sns.barplot(x=\"importance\", y=\"feature\", data=best_features.sort_values(by=\"importance\", ascending=False));\n",
    "            plt.title('LGB Features (avg over folds)');\n",
    "        \n",
    "            return oof, prediction, feature_importance\n",
    "        return oof, prediction\n",
    "    \n",
    "    else:\n",
    "        return oof, prediction, model"
   ]
  },
  {
   "cell_type": "code",
   "execution_count": null,
   "metadata": {},
   "outputs": [],
   "source": [
    "params = {\n",
    "          'num_leaves': 128,\n",
    "          'min_child_samples': 50,\n",
    "          'objective': 'regression',\n",
    "          'max_depth': 9,\n",
    "          'learning_rate': 0.2,\n",
    "          \"boosting_type\": \"gbdt\",\n",
    "          \"subsample_freq\": 1,\n",
    "          \"subsample\": 0.9,\n",
    "          \"bagging_seed\": 11,\n",
    "          \"metric\": 'mae',\n",
    "          \"verbosity\": -1,\n",
    "          'reg_alpha': 0.1302650970728192,\n",
    "          'reg_lambda': 0.3603427518866501,\n",
    "          'colsample_bytree': 1.0,\n",
    "          'device' : 'cpu',\n",
    "          'gpu_platform_id' : 0,\n",
    "          'gpu_device_id' : 0,\n",
    "          'gpu_use_dp': False\n",
    "         }"
   ]
  },
  {
   "cell_type": "code",
   "execution_count": null,
   "metadata": {},
   "outputs": [],
   "source": [
    "prediction_lgb=pd.DataFrame(test.shape[0],index=test['id'],columns=['scalar_coupling_constant'],dtype=float)\n",
    "oof_lgb=pd.DataFrame(train.shape[0],index=train['id'],columns=['oof'],dtype=float)\n",
    "\n",
    "for t in train['type'].unique():\n",
    "    print(f'Training of type {t}')\n",
    "    b=int(t[0]) # current bond for this type\n",
    "    print('Predicting J=',b)\n",
    "    X=train[train.type==t]\n",
    "    if (b==1):\n",
    "        X['sp']=X.apply(lambda row: Atoms(row.molecule_name, row.atom_index_0, row.atom_index_1)[2].GetHyb(),axis=1) # second atom is C or N for bond 1\n",
    "    if (b==2):\n",
    "        X['Angle']=X.apply(lambda row: Angle2J(row.molecule_name , row.atom_index_0, row.atom_index_1),axis=1) \n",
    "    if (b==3):\n",
    "        X['Torsion']=X.apply(lambda row: Torsion3J(row.molecule_name , row.atom_index_0, row.atom_index_1),axis=1) \n",
    "        X['cosT']=np.cos(np.deg2rad(X['Torsion']))\n",
    "        X['cos2T']=np.cos(2*np.deg2rad(X['Torsion']))\n",
    "    y = X['scalar_coupling_constant']\n",
    "    ids_train=X['id']\n",
    "    X = X.drop(['id','type', 'molecule_name', 'scalar_coupling_constant','bonds'], axis=1)\n",
    "    \n",
    "    X_test = test[test.type==t]\n",
    "    if (b==1): \n",
    "        X_test['sp']=X_test.apply(lambda row: Atoms(row.molecule_name, row.atom_index_0, row.atom_index_1)[2].GetHyb(),axis=1) # second atom is C or N for bond 1\n",
    "    if (b==2):\n",
    "        X_test['Angle']=X_test.apply(lambda row: Angle2J(row.molecule_name , row.atom_index_0, row.atom_index_1),axis=1) \n",
    "    if (b==3):\n",
    "        X_test['Torsion']=X_test.apply(lambda row: Torsion3J(row.molecule_name , row.atom_index_0, row.atom_index_1),axis=1)  \n",
    "        X_test['cosT']=np.cos(np.deg2rad(X_test['Torsion']))\n",
    "        X_test['cos2T']=np.cos(2*np.deg2rad(X_test['Torsion']))\n",
    "    ids_test=X_test['id']    \n",
    "    X_test=X_test.drop(['id', 'type', 'molecule_name','bonds'], axis=1)\n",
    "    \n",
    "    n_fold = 5\n",
    "    folds = KFold(n_splits=n_fold, shuffle=True, random_state=11)\n",
    "    \n",
    "    fold_oof_lgb, fold_prediction_lgb, feature_importance = train_model(X=X,X_test=X_test,y=y,params=params,folds=folds, model_type='lgb', plot_feature_importance=True)\n",
    "    \n",
    "    prediction_lgb.loc[ids_test,'scalar_coupling_constant']=fold_prediction_lgb\n",
    "    oof_lgb.loc[ids_train,'oof']=fold_oof_lgb\n",
    "      "
   ]
  },
  {
   "cell_type": "code",
   "execution_count": null,
   "metadata": {},
   "outputs": [],
   "source": [
    "#'categorical_feature' : \"name:type, atom_0, atom_1\","
   ]
  },
  {
   "cell_type": "markdown",
   "metadata": {},
   "source": []
  },
  {
   "cell_type": "code",
   "execution_count": null,
   "metadata": {},
   "outputs": [],
   "source": [
    "sub=sub.drop(['scalar_coupling_constant'],axis=1).merge(prediction_lgb,on='id')\n",
    "sub.to_csv('submission.csv', index=False)\n",
    "sub.head()"
   ]
  },
  {
   "cell_type": "code",
   "execution_count": null,
   "metadata": {},
   "outputs": [],
   "source": [
    "plot_data = pd.DataFrame(train['scalar_coupling_constant'])\n",
    "plot_data.index.name = 'id'\n",
    "plot_data['yhat'] = oof_lgb['oof']\n",
    "plot_data['type'] = train['type']\n",
    "\n",
    "def plot_oof_preds(ctype, llim, ulim):\n",
    "        plt.figure(figsize=(6,6))\n",
    "        sns.scatterplot(x='scalar_coupling_constant',y='yhat',\n",
    "                        data=plot_data.loc[plot_data['type']==ctype,\n",
    "                        ['scalar_coupling_constant', 'yhat']]);\n",
    "        plt.xlim((llim, ulim))\n",
    "        plt.ylim((llim, ulim))\n",
    "        plt.plot([llim, ulim], [llim, ulim])\n",
    "        plt.xlabel('scalar_coupling_constant')\n",
    "        plt.ylabel('predicted')\n",
    "        plt.title(f'{ctype}', fontsize=18)\n",
    "        plt.show()\n",
    "\n",
    "plot_oof_preds('1JHC', 0, 250)\n",
    "plot_oof_preds('1JHN', 0, 100)\n",
    "plot_oof_preds('2JHC', -50, 50)\n",
    "plot_oof_preds('2JHH', -50, 50)\n",
    "plot_oof_preds('2JHN', -25, 25)\n",
    "plot_oof_preds('3JHC', -25, 100)\n",
    "plot_oof_preds('3JHH', -20, 20)\n",
    "plot_oof_preds('3JHN', -15, 15)"
   ]
  },
  {
   "cell_type": "raw",
   "metadata": {},
   "source": []
  }
 ],
 "metadata": {
  "kernelspec": {
   "display_name": "Python 3",
   "language": "python",
   "name": "python3"
  },
  "language_info": {
   "codemirror_mode": {
    "name": "ipython",
    "version": 3
   },
   "file_extension": ".py",
   "mimetype": "text/x-python",
   "name": "python",
   "nbconvert_exporter": "python",
   "pygments_lexer": "ipython3",
   "version": "3.7.3"
  }
 },
 "nbformat": 4,
 "nbformat_minor": 4
}
